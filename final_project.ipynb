{
 "cells": [
  {
   "cell_type": "code",
   "execution_count": 1,
   "id": "19f8db20",
   "metadata": {},
   "outputs": [],
   "source": [
    "import pandas as pd\n",
    "import numpy as np\n",
    "\n",
    "import matplotlib.pyplot as plt\n",
    "import seaborn as sns\n",
    "# Отключение некоторых лишних предупреждений\n",
    "import warnings\n",
    "warnings.filterwarnings(\"ignore\")"
   ]
  },
  {
   "cell_type": "markdown",
   "id": "125f6175",
   "metadata": {},
   "source": [
    "**Для начала загрузим файл в pd.DataFrame**"
   ]
  },
  {
   "cell_type": "code",
   "execution_count": 2,
   "id": "dd5b7c18",
   "metadata": {
    "scrolled": true
   },
   "outputs": [
    {
     "name": "stdout",
     "output_type": "stream",
     "text": [
      "      rank_order   rank                                   name scores_overall  \\\n",
      "0             10      1                   University of Oxford           95.4   \n",
      "1             20      2     California Institute of Technology           94.5   \n",
      "2             30      3                University of Cambridge           94.4   \n",
      "3             40      4                    Stanford University           94.3   \n",
      "4             50      5  Massachusetts Institute of Technology           93.6   \n",
      "...          ...    ...                                    ...            ...   \n",
      "1392       13930  1001+                     Yuan Ze University      10.7–22.1   \n",
      "1393       13940  1001+                     Zagazig University      10.7–22.1   \n",
      "1394       13950  1001+                   University of Zagreb      10.7–22.1   \n",
      "1395       13960  1001+                   University of Zanjan      10.7–22.1   \n",
      "1396       13970  1001+      Zhejiang University of Technology      10.7–22.1   \n",
      "\n",
      "      scores_overall_rank  scores_teaching  scores_teaching_rank  \\\n",
      "0                      10             90.5                     6   \n",
      "1                      20             92.1                     2   \n",
      "2                      30             91.4                     4   \n",
      "3                      40             92.8                     1   \n",
      "4                      50             90.5                     5   \n",
      "...                   ...              ...                   ...   \n",
      "1392                13930             17.3                  1143   \n",
      "1393                13940             13.6                  1373   \n",
      "1394                13950             17.8                  1096   \n",
      "1395                13960             17.0                  1165   \n",
      "1396                13970             16.7                  1202   \n",
      "\n",
      "      scores_research  scores_research_rank  scores_citations  ...  \\\n",
      "0                99.6                     1              98.4  ...   \n",
      "1                97.2                     4              97.9  ...   \n",
      "2                98.7                     2              95.8  ...   \n",
      "3                96.4                     5              99.9  ...   \n",
      "4                92.4                    10              99.5  ...   \n",
      "...               ...                   ...               ...  ...   \n",
      "1392             13.9                   885              15.5  ...   \n",
      "1393              7.7                  1365              29.6  ...   \n",
      "1394             12.9                   957              25.3  ...   \n",
      "1395             12.3                  1000              28.5  ...   \n",
      "1396             14.2                   869              32.3  ...   \n",
      "\n",
      "      scores_international_outlook_rank        location  \\\n",
      "0                                    22  United Kingdom   \n",
      "1                                   151   United States   \n",
      "2                                    37  United Kingdom   \n",
      "3                                   188   United States   \n",
      "4                                    99   United States   \n",
      "...                                 ...             ...   \n",
      "1392                               1024          Taiwan   \n",
      "1393                                800           Egypt   \n",
      "1394                                919         Croatia   \n",
      "1395                               1282            Iran   \n",
      "1396                               1119           China   \n",
      "\n",
      "      stats_number_students  stats_student_staff_ratio  \\\n",
      "0                    20,665                       11.2   \n",
      "1                     2,240                        6.4   \n",
      "2                    18,980                       10.9   \n",
      "3                    16,135                        7.3   \n",
      "4                    11,247                        8.6   \n",
      "...                     ...                        ...   \n",
      "1392                  8,356                       19.5   \n",
      "1393                156,419                       24.0   \n",
      "1394                 68,216                       18.9   \n",
      "1395                  9,980                       25.1   \n",
      "1396                 31,228                       14.7   \n",
      "\n",
      "      stats_pc_intl_students stats_female_male_ratio  \\\n",
      "0                        41%                 46 : 54   \n",
      "1                        30%                 34 : 66   \n",
      "2                        37%                 47 : 53   \n",
      "3                        23%                 43 : 57   \n",
      "4                        34%                 39 : 61   \n",
      "...                      ...                     ...   \n",
      "1392                      8%                 42 : 58   \n",
      "1393                      1%                 53 : 47   \n",
      "1394                      3%                 59 : 41   \n",
      "1395                      0%                 54 : 46   \n",
      "1396                      8%                     NaN   \n",
      "\n",
      "                                         aliases  \\\n",
      "0                           University of Oxford   \n",
      "1     California Institute of Technology caltech   \n",
      "2                        University of Cambridge   \n",
      "3                            Stanford University   \n",
      "4          Massachusetts Institute of Technology   \n",
      "...                                          ...   \n",
      "1392                          Yuan Ze University   \n",
      "1393                          Zagazig University   \n",
      "1394                        University of Zagreb   \n",
      "1395                        University of Zanjan   \n",
      "1396           Zhejiang University of Technology   \n",
      "\n",
      "                                       subjects_offered closed unaccredited  \n",
      "0     Accounting & Finance,General Engineering,Commu...  False        False  \n",
      "1     Languages, Literature & Linguistics,Economics ...  False        False  \n",
      "2     Business & Management,General Engineering,Art,...  False        False  \n",
      "3     Physics & Astronomy,Computer Science,Politics ...  False        False  \n",
      "4     Mathematics & Statistics,Languages, Literature...  False        False  \n",
      "...                                                 ...    ...          ...  \n",
      "1392  Business & Management,Sociology,Electrical & E...  False        False  \n",
      "1393  General Engineering,Psychology,Sport Science,P...  False        False  \n",
      "1394  Geography,Psychology,Electrical & Electronic E...  False        False  \n",
      "1395  Agriculture & Forestry,Psychology,Languages, L...  False        False  \n",
      "1396  Chemical Engineering,Accounting & Finance,Comm...  False        False  \n",
      "\n",
      "[1397 rows x 24 columns]\n"
     ]
    }
   ],
   "source": [
    "data = pd.read_csv(\"2020_rankings.csv\")\n",
    "print(data)"
   ]
  },
  {
   "cell_type": "markdown",
   "id": "56b71c1d",
   "metadata": {},
   "source": [
    "Можно предположить, что столбцы 'aliases' и 'subject_offered' будут наименее эффектинвы для дальнейшего исследования. Название 'aliases' практически всегда совпадает с основым названием ВУЗа, а список предметов будет трудно проанализировать. "
   ]
  },
  {
   "cell_type": "code",
   "execution_count": 6,
   "id": "09bf53d4",
   "metadata": {},
   "outputs": [],
   "source": [
    "# Заменяем запятую на пустую строку\n",
    "data['stats_number_students'] = data['stats_number_students'].str.replace(',', '')\n",
    "data['stats_number_students'] = data['stats_number_students'].astype('int64')"
   ]
  },
  {
   "cell_type": "markdown",
   "id": "590fe49d",
   "metadata": {},
   "source": [
    "**Проанализируем столбцы и их типы данных**"
   ]
  },
  {
   "cell_type": "code",
   "execution_count": 7,
   "id": "cc2bae50",
   "metadata": {
    "scrolled": true
   },
   "outputs": [
    {
     "name": "stdout",
     "output_type": "stream",
     "text": [
      "<class 'pandas.core.frame.DataFrame'>\n",
      "RangeIndex: 1397 entries, 0 to 1396\n",
      "Data columns (total 24 columns):\n",
      " #   Column                             Non-Null Count  Dtype  \n",
      "---  ------                             --------------  -----  \n",
      " 0   rank_order                         1397 non-null   int64  \n",
      " 1   rank                               1397 non-null   object \n",
      " 2   name                               1397 non-null   object \n",
      " 3   scores_overall                     1397 non-null   object \n",
      " 4   scores_overall_rank                1397 non-null   int64  \n",
      " 5   scores_teaching                    1397 non-null   float64\n",
      " 6   scores_teaching_rank               1397 non-null   int64  \n",
      " 7   scores_research                    1397 non-null   float64\n",
      " 8   scores_research_rank               1397 non-null   int64  \n",
      " 9   scores_citations                   1397 non-null   float64\n",
      " 10  scores_citations_rank              1397 non-null   int64  \n",
      " 11  scores_industry_income             1397 non-null   float64\n",
      " 12  scores_industry_income_rank        1397 non-null   int64  \n",
      " 13  scores_international_outlook       1397 non-null   float64\n",
      " 14  scores_international_outlook_rank  1397 non-null   int64  \n",
      " 15  location                           1397 non-null   object \n",
      " 16  stats_number_students              1397 non-null   int64  \n",
      " 17  stats_student_staff_ratio          1397 non-null   float64\n",
      " 18  stats_pc_intl_students             1397 non-null   object \n",
      " 19  stats_female_male_ratio            1331 non-null   object \n",
      " 20  aliases                            1397 non-null   object \n",
      " 21  subjects_offered                   1397 non-null   object \n",
      " 22  closed                             1397 non-null   bool   \n",
      " 23  unaccredited                       1397 non-null   bool   \n",
      "dtypes: bool(2), float64(6), int64(8), object(8)\n",
      "memory usage: 243.0+ KB\n"
     ]
    }
   ],
   "source": [
    "data.info()"
   ]
  },
  {
   "cell_type": "markdown",
   "id": "2d8b9efd",
   "metadata": {},
   "source": [
    "Таблица состоит из 24 столбца с данными со следующими datatype: 'int64', 'object', 'float64', 'bool'. В каждом столбце имеется 1397 значений кроме 'stats_female_male_ratio', где в 66 строках имеются пропуски. Прежде чем перейти к проверке данного суждения, заметим, что последние два столбца состоят из переменной 'bool', проверим, если все значения одинковы и равны 'False', то в дальнейшем анализе эти столбцы не понадобятся."
   ]
  },
  {
   "cell_type": "code",
   "execution_count": 8,
   "id": "2c325634",
   "metadata": {},
   "outputs": [
    {
     "data": {
      "text/plain": [
       "False"
      ]
     },
     "execution_count": 8,
     "metadata": {},
     "output_type": "execute_result"
    }
   ],
   "source": [
    "data['closed'].isin([True]).any()"
   ]
  },
  {
   "cell_type": "code",
   "execution_count": 9,
   "id": "fa40aa39",
   "metadata": {},
   "outputs": [
    {
     "data": {
      "text/plain": [
       "False"
      ]
     },
     "execution_count": 9,
     "metadata": {},
     "output_type": "execute_result"
    }
   ],
   "source": [
    "data['unaccredited'].isin([True]).any()"
   ]
  },
  {
   "cell_type": "markdown",
   "id": "cbeb5fb8",
   "metadata": {},
   "source": [
    "Обе функции вернули значение 'false' => можно сделать вывод, что столбцы 'closed' и 'unaccredited' также не несут в себе смысла, так как для всех ВУЗов значения одникаовые: они работают и аккредитированы. "
   ]
  },
  {
   "cell_type": "markdown",
   "id": "3a61d82a",
   "metadata": {},
   "source": [
    "**Проверим количество пропусков в каждой колонке**"
   ]
  },
  {
   "cell_type": "code",
   "execution_count": 10,
   "id": "5f4d89ed",
   "metadata": {
    "scrolled": true
   },
   "outputs": [
    {
     "data": {
      "text/plain": [
       "rank_order                            0\n",
       "rank                                  0\n",
       "name                                  0\n",
       "scores_overall                        0\n",
       "scores_overall_rank                   0\n",
       "scores_teaching                       0\n",
       "scores_teaching_rank                  0\n",
       "scores_research                       0\n",
       "scores_research_rank                  0\n",
       "scores_citations                      0\n",
       "scores_citations_rank                 0\n",
       "scores_industry_income                0\n",
       "scores_industry_income_rank           0\n",
       "scores_international_outlook          0\n",
       "scores_international_outlook_rank     0\n",
       "location                              0\n",
       "stats_number_students                 0\n",
       "stats_student_staff_ratio             0\n",
       "stats_pc_intl_students                0\n",
       "stats_female_male_ratio              66\n",
       "aliases                               0\n",
       "subjects_offered                      0\n",
       "closed                                0\n",
       "unaccredited                          0\n",
       "dtype: int64"
      ]
     },
     "execution_count": 10,
     "metadata": {},
     "output_type": "execute_result"
    }
   ],
   "source": [
    "data.isnull().sum()"
   ]
  },
  {
   "cell_type": "markdown",
   "id": "0457429a",
   "metadata": {},
   "source": [
    "Предположение подвтердилось, что в столбце 'stats_female_male_ratio' 66 пропуска, так как значения данного столбца представляют собой пропурцию двух чисел (процентное соотношение девушек к мужчинам), просто заполнить медианой пропуски не получится (тип переменной - object). Попробуем оставить в этом столбце лишь первые два символа, то есть число процентов учащихся девушек в каждом ВУЗе. Заменим столбез с данными 'stats_female_male_ratio' на 'stats_female_ratio'."
   ]
  },
  {
   "cell_type": "code",
   "execution_count": 11,
   "id": "00830f85",
   "metadata": {},
   "outputs": [
    {
     "data": {
      "text/html": [
       "<div>\n",
       "<style scoped>\n",
       "    .dataframe tbody tr th:only-of-type {\n",
       "        vertical-align: middle;\n",
       "    }\n",
       "\n",
       "    .dataframe tbody tr th {\n",
       "        vertical-align: top;\n",
       "    }\n",
       "\n",
       "    .dataframe thead th {\n",
       "        text-align: right;\n",
       "    }\n",
       "</style>\n",
       "<table border=\"1\" class=\"dataframe\">\n",
       "  <thead>\n",
       "    <tr style=\"text-align: right;\">\n",
       "      <th></th>\n",
       "      <th>rank_order</th>\n",
       "      <th>rank</th>\n",
       "      <th>name</th>\n",
       "      <th>scores_overall</th>\n",
       "      <th>scores_overall_rank</th>\n",
       "      <th>scores_teaching</th>\n",
       "      <th>scores_teaching_rank</th>\n",
       "      <th>scores_research</th>\n",
       "      <th>scores_research_rank</th>\n",
       "      <th>scores_citations</th>\n",
       "      <th>...</th>\n",
       "      <th>scores_international_outlook_rank</th>\n",
       "      <th>location</th>\n",
       "      <th>stats_number_students</th>\n",
       "      <th>stats_student_staff_ratio</th>\n",
       "      <th>stats_pc_intl_students</th>\n",
       "      <th>stats_female_ratio</th>\n",
       "      <th>aliases</th>\n",
       "      <th>subjects_offered</th>\n",
       "      <th>closed</th>\n",
       "      <th>unaccredited</th>\n",
       "    </tr>\n",
       "  </thead>\n",
       "  <tbody>\n",
       "    <tr>\n",
       "      <th>0</th>\n",
       "      <td>10</td>\n",
       "      <td>1</td>\n",
       "      <td>University of Oxford</td>\n",
       "      <td>95.4</td>\n",
       "      <td>10</td>\n",
       "      <td>90.5</td>\n",
       "      <td>6</td>\n",
       "      <td>99.6</td>\n",
       "      <td>1</td>\n",
       "      <td>98.4</td>\n",
       "      <td>...</td>\n",
       "      <td>22</td>\n",
       "      <td>United Kingdom</td>\n",
       "      <td>20665</td>\n",
       "      <td>11.2</td>\n",
       "      <td>41%</td>\n",
       "      <td>46</td>\n",
       "      <td>University of Oxford</td>\n",
       "      <td>Accounting &amp; Finance,General Engineering,Commu...</td>\n",
       "      <td>False</td>\n",
       "      <td>False</td>\n",
       "    </tr>\n",
       "    <tr>\n",
       "      <th>1</th>\n",
       "      <td>20</td>\n",
       "      <td>2</td>\n",
       "      <td>California Institute of Technology</td>\n",
       "      <td>94.5</td>\n",
       "      <td>20</td>\n",
       "      <td>92.1</td>\n",
       "      <td>2</td>\n",
       "      <td>97.2</td>\n",
       "      <td>4</td>\n",
       "      <td>97.9</td>\n",
       "      <td>...</td>\n",
       "      <td>151</td>\n",
       "      <td>United States</td>\n",
       "      <td>2240</td>\n",
       "      <td>6.4</td>\n",
       "      <td>30%</td>\n",
       "      <td>34</td>\n",
       "      <td>California Institute of Technology caltech</td>\n",
       "      <td>Languages, Literature &amp; Linguistics,Economics ...</td>\n",
       "      <td>False</td>\n",
       "      <td>False</td>\n",
       "    </tr>\n",
       "    <tr>\n",
       "      <th>2</th>\n",
       "      <td>30</td>\n",
       "      <td>3</td>\n",
       "      <td>University of Cambridge</td>\n",
       "      <td>94.4</td>\n",
       "      <td>30</td>\n",
       "      <td>91.4</td>\n",
       "      <td>4</td>\n",
       "      <td>98.7</td>\n",
       "      <td>2</td>\n",
       "      <td>95.8</td>\n",
       "      <td>...</td>\n",
       "      <td>37</td>\n",
       "      <td>United Kingdom</td>\n",
       "      <td>18980</td>\n",
       "      <td>10.9</td>\n",
       "      <td>37%</td>\n",
       "      <td>47</td>\n",
       "      <td>University of Cambridge</td>\n",
       "      <td>Business &amp; Management,General Engineering,Art,...</td>\n",
       "      <td>False</td>\n",
       "      <td>False</td>\n",
       "    </tr>\n",
       "    <tr>\n",
       "      <th>3</th>\n",
       "      <td>40</td>\n",
       "      <td>4</td>\n",
       "      <td>Stanford University</td>\n",
       "      <td>94.3</td>\n",
       "      <td>40</td>\n",
       "      <td>92.8</td>\n",
       "      <td>1</td>\n",
       "      <td>96.4</td>\n",
       "      <td>5</td>\n",
       "      <td>99.9</td>\n",
       "      <td>...</td>\n",
       "      <td>188</td>\n",
       "      <td>United States</td>\n",
       "      <td>16135</td>\n",
       "      <td>7.3</td>\n",
       "      <td>23%</td>\n",
       "      <td>43</td>\n",
       "      <td>Stanford University</td>\n",
       "      <td>Physics &amp; Astronomy,Computer Science,Politics ...</td>\n",
       "      <td>False</td>\n",
       "      <td>False</td>\n",
       "    </tr>\n",
       "    <tr>\n",
       "      <th>4</th>\n",
       "      <td>50</td>\n",
       "      <td>5</td>\n",
       "      <td>Massachusetts Institute of Technology</td>\n",
       "      <td>93.6</td>\n",
       "      <td>50</td>\n",
       "      <td>90.5</td>\n",
       "      <td>5</td>\n",
       "      <td>92.4</td>\n",
       "      <td>10</td>\n",
       "      <td>99.5</td>\n",
       "      <td>...</td>\n",
       "      <td>99</td>\n",
       "      <td>United States</td>\n",
       "      <td>11247</td>\n",
       "      <td>8.6</td>\n",
       "      <td>34%</td>\n",
       "      <td>39</td>\n",
       "      <td>Massachusetts Institute of Technology</td>\n",
       "      <td>Mathematics &amp; Statistics,Languages, Literature...</td>\n",
       "      <td>False</td>\n",
       "      <td>False</td>\n",
       "    </tr>\n",
       "  </tbody>\n",
       "</table>\n",
       "<p>5 rows × 24 columns</p>\n",
       "</div>"
      ],
      "text/plain": [
       "   rank_order rank                                   name scores_overall  \\\n",
       "0          10    1                   University of Oxford           95.4   \n",
       "1          20    2     California Institute of Technology           94.5   \n",
       "2          30    3                University of Cambridge           94.4   \n",
       "3          40    4                    Stanford University           94.3   \n",
       "4          50    5  Massachusetts Institute of Technology           93.6   \n",
       "\n",
       "   scores_overall_rank  scores_teaching  scores_teaching_rank  \\\n",
       "0                   10             90.5                     6   \n",
       "1                   20             92.1                     2   \n",
       "2                   30             91.4                     4   \n",
       "3                   40             92.8                     1   \n",
       "4                   50             90.5                     5   \n",
       "\n",
       "   scores_research  scores_research_rank  scores_citations  ...  \\\n",
       "0             99.6                     1              98.4  ...   \n",
       "1             97.2                     4              97.9  ...   \n",
       "2             98.7                     2              95.8  ...   \n",
       "3             96.4                     5              99.9  ...   \n",
       "4             92.4                    10              99.5  ...   \n",
       "\n",
       "   scores_international_outlook_rank        location  stats_number_students  \\\n",
       "0                                 22  United Kingdom                  20665   \n",
       "1                                151   United States                   2240   \n",
       "2                                 37  United Kingdom                  18980   \n",
       "3                                188   United States                  16135   \n",
       "4                                 99   United States                  11247   \n",
       "\n",
       "   stats_student_staff_ratio  stats_pc_intl_students stats_female_ratio  \\\n",
       "0                       11.2                     41%                 46   \n",
       "1                        6.4                     30%                 34   \n",
       "2                       10.9                     37%                 47   \n",
       "3                        7.3                     23%                 43   \n",
       "4                        8.6                     34%                 39   \n",
       "\n",
       "                                      aliases  \\\n",
       "0                        University of Oxford   \n",
       "1  California Institute of Technology caltech   \n",
       "2                     University of Cambridge   \n",
       "3                         Stanford University   \n",
       "4       Massachusetts Institute of Technology   \n",
       "\n",
       "                                    subjects_offered closed unaccredited  \n",
       "0  Accounting & Finance,General Engineering,Commu...  False        False  \n",
       "1  Languages, Literature & Linguistics,Economics ...  False        False  \n",
       "2  Business & Management,General Engineering,Art,...  False        False  \n",
       "3  Physics & Astronomy,Computer Science,Politics ...  False        False  \n",
       "4  Mathematics & Statistics,Languages, Literature...  False        False  \n",
       "\n",
       "[5 rows x 24 columns]"
      ]
     },
     "execution_count": 11,
     "metadata": {},
     "output_type": "execute_result"
    }
   ],
   "source": [
    "data['stats_female_male_ratio'] = data['stats_female_male_ratio'].str[:2]\n",
    "data = data.rename(columns={'stats_female_male_ratio': 'stats_female_ratio'})\n",
    "\n",
    "data.head()"
   ]
  },
  {
   "cell_type": "markdown",
   "id": "f6bd8b06",
   "metadata": {},
   "source": [
    "Теперь заполним пропуски медианой, так как это среднее по численности в упорядочном списке, а не просто среднее арифметическое, что может исказить данные."
   ]
  },
  {
   "cell_type": "code",
   "execution_count": 12,
   "id": "6f9c1d30",
   "metadata": {},
   "outputs": [],
   "source": [
    "data.fillna(data.median(), inplace=True)"
   ]
  },
  {
   "cell_type": "code",
   "execution_count": 13,
   "id": "370d0f70",
   "metadata": {},
   "outputs": [
    {
     "data": {
      "text/plain": [
       "rank_order                           0\n",
       "rank                                 0\n",
       "name                                 0\n",
       "scores_overall                       0\n",
       "scores_overall_rank                  0\n",
       "scores_teaching                      0\n",
       "scores_teaching_rank                 0\n",
       "scores_research                      0\n",
       "scores_research_rank                 0\n",
       "scores_citations                     0\n",
       "scores_citations_rank                0\n",
       "scores_industry_income               0\n",
       "scores_industry_income_rank          0\n",
       "scores_international_outlook         0\n",
       "scores_international_outlook_rank    0\n",
       "location                             0\n",
       "stats_number_students                0\n",
       "stats_student_staff_ratio            0\n",
       "stats_pc_intl_students               0\n",
       "stats_female_ratio                   0\n",
       "aliases                              0\n",
       "subjects_offered                     0\n",
       "closed                               0\n",
       "unaccredited                         0\n",
       "dtype: int64"
      ]
     },
     "execution_count": 13,
     "metadata": {},
     "output_type": "execute_result"
    }
   ],
   "source": [
    "data.isnull().sum()\n",
    "#Ещё одна проверка показала, что мы избавились от нулевых значений."
   ]
  },
  {
   "cell_type": "markdown",
   "id": "72e39e3f",
   "metadata": {},
   "source": [
    "Теперь определим, какие столбцы будут присутсвовать в дальнейшем исследовании."
   ]
  },
  {
   "cell_type": "code",
   "execution_count": 14,
   "id": "73ce4adc",
   "metadata": {
    "scrolled": false
   },
   "outputs": [
    {
     "data": {
      "text/html": [
       "<div>\n",
       "<style scoped>\n",
       "    .dataframe tbody tr th:only-of-type {\n",
       "        vertical-align: middle;\n",
       "    }\n",
       "\n",
       "    .dataframe tbody tr th {\n",
       "        vertical-align: top;\n",
       "    }\n",
       "\n",
       "    .dataframe thead th {\n",
       "        text-align: right;\n",
       "    }\n",
       "</style>\n",
       "<table border=\"1\" class=\"dataframe\">\n",
       "  <thead>\n",
       "    <tr style=\"text-align: right;\">\n",
       "      <th></th>\n",
       "      <th>rank_order</th>\n",
       "      <th>rank</th>\n",
       "      <th>name</th>\n",
       "      <th>scores_overall</th>\n",
       "      <th>scores_teaching</th>\n",
       "      <th>scores_research</th>\n",
       "      <th>scores_citations</th>\n",
       "      <th>scores_industry_income</th>\n",
       "      <th>scores_international_outlook</th>\n",
       "      <th>location</th>\n",
       "      <th>stats_number_students</th>\n",
       "      <th>stats_female_ratio</th>\n",
       "    </tr>\n",
       "  </thead>\n",
       "  <tbody>\n",
       "    <tr>\n",
       "      <th>0</th>\n",
       "      <td>10</td>\n",
       "      <td>1</td>\n",
       "      <td>University of Oxford</td>\n",
       "      <td>95.4</td>\n",
       "      <td>90.5</td>\n",
       "      <td>99.6</td>\n",
       "      <td>98.4</td>\n",
       "      <td>65.5</td>\n",
       "      <td>96.4</td>\n",
       "      <td>United Kingdom</td>\n",
       "      <td>20665</td>\n",
       "      <td>46</td>\n",
       "    </tr>\n",
       "    <tr>\n",
       "      <th>1</th>\n",
       "      <td>20</td>\n",
       "      <td>2</td>\n",
       "      <td>California Institute of Technology</td>\n",
       "      <td>94.5</td>\n",
       "      <td>92.1</td>\n",
       "      <td>97.2</td>\n",
       "      <td>97.9</td>\n",
       "      <td>88.0</td>\n",
       "      <td>82.5</td>\n",
       "      <td>United States</td>\n",
       "      <td>2240</td>\n",
       "      <td>34</td>\n",
       "    </tr>\n",
       "    <tr>\n",
       "      <th>2</th>\n",
       "      <td>30</td>\n",
       "      <td>3</td>\n",
       "      <td>University of Cambridge</td>\n",
       "      <td>94.4</td>\n",
       "      <td>91.4</td>\n",
       "      <td>98.7</td>\n",
       "      <td>95.8</td>\n",
       "      <td>59.3</td>\n",
       "      <td>95.0</td>\n",
       "      <td>United Kingdom</td>\n",
       "      <td>18980</td>\n",
       "      <td>47</td>\n",
       "    </tr>\n",
       "    <tr>\n",
       "      <th>3</th>\n",
       "      <td>40</td>\n",
       "      <td>4</td>\n",
       "      <td>Stanford University</td>\n",
       "      <td>94.3</td>\n",
       "      <td>92.8</td>\n",
       "      <td>96.4</td>\n",
       "      <td>99.9</td>\n",
       "      <td>66.2</td>\n",
       "      <td>79.5</td>\n",
       "      <td>United States</td>\n",
       "      <td>16135</td>\n",
       "      <td>43</td>\n",
       "    </tr>\n",
       "    <tr>\n",
       "      <th>4</th>\n",
       "      <td>50</td>\n",
       "      <td>5</td>\n",
       "      <td>Massachusetts Institute of Technology</td>\n",
       "      <td>93.6</td>\n",
       "      <td>90.5</td>\n",
       "      <td>92.4</td>\n",
       "      <td>99.5</td>\n",
       "      <td>86.9</td>\n",
       "      <td>89.0</td>\n",
       "      <td>United States</td>\n",
       "      <td>11247</td>\n",
       "      <td>39</td>\n",
       "    </tr>\n",
       "    <tr>\n",
       "      <th>...</th>\n",
       "      <td>...</td>\n",
       "      <td>...</td>\n",
       "      <td>...</td>\n",
       "      <td>...</td>\n",
       "      <td>...</td>\n",
       "      <td>...</td>\n",
       "      <td>...</td>\n",
       "      <td>...</td>\n",
       "      <td>...</td>\n",
       "      <td>...</td>\n",
       "      <td>...</td>\n",
       "      <td>...</td>\n",
       "    </tr>\n",
       "    <tr>\n",
       "      <th>1392</th>\n",
       "      <td>13930</td>\n",
       "      <td>1001+</td>\n",
       "      <td>Yuan Ze University</td>\n",
       "      <td>10.7–22.1</td>\n",
       "      <td>17.3</td>\n",
       "      <td>13.9</td>\n",
       "      <td>15.5</td>\n",
       "      <td>47.0</td>\n",
       "      <td>28.3</td>\n",
       "      <td>Taiwan</td>\n",
       "      <td>8356</td>\n",
       "      <td>42</td>\n",
       "    </tr>\n",
       "    <tr>\n",
       "      <th>1393</th>\n",
       "      <td>13940</td>\n",
       "      <td>1001+</td>\n",
       "      <td>Zagazig University</td>\n",
       "      <td>10.7–22.1</td>\n",
       "      <td>13.6</td>\n",
       "      <td>7.7</td>\n",
       "      <td>29.6</td>\n",
       "      <td>34.4</td>\n",
       "      <td>38.8</td>\n",
       "      <td>Egypt</td>\n",
       "      <td>156419</td>\n",
       "      <td>53</td>\n",
       "    </tr>\n",
       "    <tr>\n",
       "      <th>1394</th>\n",
       "      <td>13950</td>\n",
       "      <td>1001+</td>\n",
       "      <td>University of Zagreb</td>\n",
       "      <td>10.7–22.1</td>\n",
       "      <td>17.8</td>\n",
       "      <td>12.9</td>\n",
       "      <td>25.3</td>\n",
       "      <td>37.4</td>\n",
       "      <td>33.0</td>\n",
       "      <td>Croatia</td>\n",
       "      <td>68216</td>\n",
       "      <td>59</td>\n",
       "    </tr>\n",
       "    <tr>\n",
       "      <th>1395</th>\n",
       "      <td>13960</td>\n",
       "      <td>1001+</td>\n",
       "      <td>University of Zanjan</td>\n",
       "      <td>10.7–22.1</td>\n",
       "      <td>17.0</td>\n",
       "      <td>12.3</td>\n",
       "      <td>28.5</td>\n",
       "      <td>43.8</td>\n",
       "      <td>18.7</td>\n",
       "      <td>Iran</td>\n",
       "      <td>9980</td>\n",
       "      <td>54</td>\n",
       "    </tr>\n",
       "    <tr>\n",
       "      <th>1396</th>\n",
       "      <td>13970</td>\n",
       "      <td>1001+</td>\n",
       "      <td>Zhejiang University of Technology</td>\n",
       "      <td>10.7–22.1</td>\n",
       "      <td>16.7</td>\n",
       "      <td>14.2</td>\n",
       "      <td>32.3</td>\n",
       "      <td>51.4</td>\n",
       "      <td>24.4</td>\n",
       "      <td>China</td>\n",
       "      <td>31228</td>\n",
       "      <td>52.0</td>\n",
       "    </tr>\n",
       "  </tbody>\n",
       "</table>\n",
       "<p>1397 rows × 12 columns</p>\n",
       "</div>"
      ],
      "text/plain": [
       "      rank_order   rank                                   name scores_overall  \\\n",
       "0             10      1                   University of Oxford           95.4   \n",
       "1             20      2     California Institute of Technology           94.5   \n",
       "2             30      3                University of Cambridge           94.4   \n",
       "3             40      4                    Stanford University           94.3   \n",
       "4             50      5  Massachusetts Institute of Technology           93.6   \n",
       "...          ...    ...                                    ...            ...   \n",
       "1392       13930  1001+                     Yuan Ze University      10.7–22.1   \n",
       "1393       13940  1001+                     Zagazig University      10.7–22.1   \n",
       "1394       13950  1001+                   University of Zagreb      10.7–22.1   \n",
       "1395       13960  1001+                   University of Zanjan      10.7–22.1   \n",
       "1396       13970  1001+      Zhejiang University of Technology      10.7–22.1   \n",
       "\n",
       "      scores_teaching  scores_research  scores_citations  \\\n",
       "0                90.5             99.6              98.4   \n",
       "1                92.1             97.2              97.9   \n",
       "2                91.4             98.7              95.8   \n",
       "3                92.8             96.4              99.9   \n",
       "4                90.5             92.4              99.5   \n",
       "...               ...              ...               ...   \n",
       "1392             17.3             13.9              15.5   \n",
       "1393             13.6              7.7              29.6   \n",
       "1394             17.8             12.9              25.3   \n",
       "1395             17.0             12.3              28.5   \n",
       "1396             16.7             14.2              32.3   \n",
       "\n",
       "      scores_industry_income  scores_international_outlook        location  \\\n",
       "0                       65.5                          96.4  United Kingdom   \n",
       "1                       88.0                          82.5   United States   \n",
       "2                       59.3                          95.0  United Kingdom   \n",
       "3                       66.2                          79.5   United States   \n",
       "4                       86.9                          89.0   United States   \n",
       "...                      ...                           ...             ...   \n",
       "1392                    47.0                          28.3          Taiwan   \n",
       "1393                    34.4                          38.8           Egypt   \n",
       "1394                    37.4                          33.0         Croatia   \n",
       "1395                    43.8                          18.7            Iran   \n",
       "1396                    51.4                          24.4           China   \n",
       "\n",
       "      stats_number_students stats_female_ratio  \n",
       "0                     20665                 46  \n",
       "1                      2240                 34  \n",
       "2                     18980                 47  \n",
       "3                     16135                 43  \n",
       "4                     11247                 39  \n",
       "...                     ...                ...  \n",
       "1392                   8356                 42  \n",
       "1393                 156419                 53  \n",
       "1394                  68216                 59  \n",
       "1395                   9980                 54  \n",
       "1396                  31228               52.0  \n",
       "\n",
       "[1397 rows x 12 columns]"
      ]
     },
     "execution_count": 14,
     "metadata": {},
     "output_type": "execute_result"
    }
   ],
   "source": [
    "useful_cols = ['rank_order', 'rank', 'name', 'scores_overall', 'scores_teaching', 'scores_research', 'scores_citations', 'scores_industry_income', 'scores_international_outlook', 'location', 'stats_number_students', 'stats_female_ratio']\n",
    "data[useful_cols]"
   ]
  },
  {
   "cell_type": "markdown",
   "id": "7c9b90c4",
   "metadata": {},
   "source": [
    "Проверим ВУЗы какой страны чаще всего встречаются в этом рейтинге. "
   ]
  },
  {
   "cell_type": "code",
   "execution_count": 15,
   "id": "a36f7970",
   "metadata": {},
   "outputs": [
    {
     "name": "stdout",
     "output_type": "stream",
     "text": [
      "United States\n"
     ]
    }
   ],
   "source": [
    "#Код найден с помощью ИИ, запрос был следующим:Как в Python найти какое значение в столбце чаще всего встречается?\n",
    "\n",
    "value_counts = data['location'].value_counts()\n",
    "most_common_value = value_counts.index[0]\n",
    "print(most_common_value)"
   ]
  },
  {
   "cell_type": "markdown",
   "id": "a309ccea",
   "metadata": {},
   "source": [
    "Теперь изучим, какое минимальное и максимальное показателя дохода отрасли по инновации."
   ]
  },
  {
   "cell_type": "code",
   "execution_count": 16,
   "id": "5ffdf53c",
   "metadata": {},
   "outputs": [
    {
     "name": "stdout",
     "output_type": "stream",
     "text": [
      "100.0\n",
      "34.4\n"
     ]
    }
   ],
   "source": [
    "# Максимальное значение в столбце\n",
    "print(data['scores_industry_income'].max())\n",
    "\n",
    "# Минимальное значение в столбце\n",
    "print(data['scores_industry_income'].min())"
   ]
  },
  {
   "cell_type": "markdown",
   "id": "cff5c659",
   "metadata": {},
   "source": [
    "# Визуализация"
   ]
  },
  {
   "cell_type": "code",
   "execution_count": 17,
   "id": "634b4867",
   "metadata": {},
   "outputs": [
    {
     "name": "stdout",
     "output_type": "stream",
     "text": [
      "Максимальное значение: 99.7\n",
      "Минимальное значение: 13.1\n",
      "Среднее: 47.09892627057979\n",
      "Медиана: 43.1\n"
     ]
    }
   ],
   "source": [
    "print(\"Максимальное значение:\", data['scores_international_outlook'].max())\n",
    "print(\"Минимальное значение:\", data['scores_international_outlook'].min())\n",
    "print(\"Среднее:\", data['scores_international_outlook'].mean())\n",
    "print(\"Медиана:\", data['scores_international_outlook'].median())"
   ]
  },
  {
   "cell_type": "code",
   "execution_count": 18,
   "id": "fe069913",
   "metadata": {},
   "outputs": [
    {
     "data": {
      "text/plain": [
       "Text(0.5, 1.0, 'Гистограмма, построенная по показателю scores_international_outlook')"
      ]
     },
     "execution_count": 18,
     "metadata": {},
     "output_type": "execute_result"
    },
    {
     "data": {
      "image/png": "[encoded data removed]",
      "text/plain": [
       "<Figure size 432x288 with 1 Axes>"
      ]
     },
     "metadata": {
      "needs_background": "light"
     },
     "output_type": "display_data"
    }
   ],
   "source": [
    "plt.hist(data['scores_international_outlook'])\n",
    "plt.xlabel('оценка международных перспектив')\n",
    "plt.ylabel('количество вузов')\n",
    "plt.title('Гистограмма, построенная по показателю scores_international_outlook')"
   ]
  },
  {
   "cell_type": "markdown",
   "id": "b95e4ba6",
   "metadata": {},
   "source": [
    "На графике видно, что чаще всего оценка международных перспектив у высших заведений ниже среднего, это подтверждает и поиск медианы чуть выше."
   ]
  },
  {
   "cell_type": "code",
   "execution_count": 19,
   "id": "48a37e79",
   "metadata": {},
   "outputs": [
    {
     "name": "stdout",
     "output_type": "stream",
     "text": [
      "rank_order                             int64\n",
      "rank                                  object\n",
      "name                                  object\n",
      "scores_overall                        object\n",
      "scores_overall_rank                    int64\n",
      "scores_teaching                      float64\n",
      "scores_teaching_rank                   int64\n",
      "scores_research                      float64\n",
      "scores_research_rank                   int64\n",
      "scores_citations                     float64\n",
      "scores_citations_rank                  int64\n",
      "scores_industry_income               float64\n",
      "scores_industry_income_rank            int64\n",
      "scores_international_outlook         float64\n",
      "scores_international_outlook_rank      int64\n",
      "location                              object\n",
      "stats_number_students                  int64\n",
      "stats_student_staff_ratio            float64\n",
      "stats_pc_intl_students                object\n",
      "stats_female_ratio                   float64\n",
      "aliases                               object\n",
      "subjects_offered                      object\n",
      "closed                                  bool\n",
      "unaccredited                            bool\n",
      "dtype: object\n"
     ]
    }
   ],
   "source": [
    "data['stats_female_ratio'] = data['stats_female_ratio'].astype('float64')\n",
    "\n",
    "print(data.dtypes)\n",
    "\n",
    "#Код найден с помощью ИИ, запрс: Как изменить тип данных object на float64"
   ]
  },
  {
   "cell_type": "code",
   "execution_count": 20,
   "id": "c82e2678",
   "metadata": {
    "scrolled": true
   },
   "outputs": [
    {
     "data": {
      "text/plain": [
       "Text(0.5, 1.0, 'Гистограмма')"
      ]
     },
     "execution_count": 20,
     "metadata": {},
     "output_type": "execute_result"
    },
    {
     "data": {
      "image/png": "[encoded data removed]",
      "text/plain": [
       "<Figure size 432x288 with 1 Axes>"
      ]
     },
     "metadata": {
      "needs_background": "light"
     },
     "output_type": "display_data"
    }
   ],
   "source": [
    "plt.hist(data['stats_female_ratio'])\n",
    "plt.xlabel('количество учащихся девушек в процентах')\n",
    "plt.ylabel('количество вузов')\n",
    "plt.title('Гистограмма')"
   ]
  },
  {
   "cell_type": "markdown",
   "id": "69148001",
   "metadata": {},
   "source": [
    "График выше иллюстрирует, что в основном количество девушек равняется или превышает количество учащихся парней. "
   ]
  },
  {
   "cell_type": "code",
   "execution_count": 21,
   "id": "b563bb0c",
   "metadata": {
    "scrolled": true
   },
   "outputs": [
    {
     "data": {
      "text/plain": [
       "Text(0.5, 1.0, 'Гистограмма')"
      ]
     },
     "execution_count": 21,
     "metadata": {},
     "output_type": "execute_result"
    },
    {
     "data": {
      "image/png": "[encoded data removed]",
      "text/plain": [
       "<Figure size 432x288 with 1 Axes>"
      ]
     },
     "metadata": {
      "needs_background": "light"
     },
     "output_type": "display_data"
    }
   ],
   "source": [
    "plt.hist(data['scores_research'])\n",
    "plt.xlabel('оценка исследования')\n",
    "plt.ylabel('количество вузов')\n",
    "plt.title('Гистограмма')"
   ]
  },
  {
   "cell_type": "code",
   "execution_count": 22,
   "id": "734aa2d1",
   "metadata": {},
   "outputs": [
    {
     "data": {
      "text/plain": [
       "Text(0.5, 1.0, 'Гистограмма')"
      ]
     },
     "execution_count": 22,
     "metadata": {},
     "output_type": "execute_result"
    },
    {
     "data": {
      "image/png": "[encoded data removed]",
      "text/plain": [
       "<Figure size 432x288 with 1 Axes>"
      ]
     },
     "metadata": {
      "needs_background": "light"
     },
     "output_type": "display_data"
    }
   ],
   "source": [
    "data[data.scores_research > 10].scores_research.hist(bins=100)\n",
    "plt.xlabel('оценка исследования')\n",
    "plt.ylabel('количество вузов')\n",
    "plt.title('Гистограмма')"
   ]
  },
  {
   "cell_type": "markdown",
   "id": "b64649fa",
   "metadata": {},
   "source": [
    "На сайте приведено следующее объяснение данной переменной 'scores_research': объем, индекс и репутация университета. На графике как раз видно, что подавлящее большинство университетов имеют низкую оценку (ниже 50) => можно сделать вывод, что высокая оценка исследования свойственна топовым университетам."
   ]
  },
  {
   "cell_type": "code",
   "execution_count": 30,
   "id": "e91d3e11",
   "metadata": {},
   "outputs": [
    {
     "data": {
      "image/png": "[encoded data removed]",
      "text/plain": [
       "<Figure size 432x288 with 1 Axes>"
      ]
     },
     "metadata": {
      "needs_background": "light"
     },
     "output_type": "display_data"
    }
   ],
   "source": [
    "import seaborn as sns\n",
    "\n",
    "ax = sns.boxplot(x=data['scores_teaching'])\n",
    "ax.set(title='Ящик с усами')\n",
    "\n",
    "# отображение графика\n",
    "plt.show()"
   ]
  },
  {
   "cell_type": "code",
   "execution_count": 29,
   "id": "15daf433",
   "metadata": {
    "scrolled": true
   },
   "outputs": [
    {
     "data": {
      "image/png": "[encoded data removed]",
      "text/plain": [
       "<Figure size 432x288 with 1 Axes>"
      ]
     },
     "metadata": {
      "needs_background": "light"
     },
     "output_type": "display_data"
    }
   ],
   "source": [
    "sns.boxplot(x=data['scores_research'])\n",
    "\n",
    "# отображение графика\n",
    "plt.show()"
   ]
  },
  {
   "cell_type": "markdown",
   "id": "7667ba43",
   "metadata": {},
   "source": [
    "Два предыдущих графика показывают наличие выбросов по двум переменным ('scores_research' и 'scores_teaching'), но мне кажется, что значения, которые попали в выбросы, важны для дальнейшего анализы, ведь мы иследуем все ВУЗы, которые встречаются в рейтинге, и не игнорируем те, у которых встречаются высокие показатели."
   ]
  },
  {
   "cell_type": "markdown",
   "id": "c183de5c",
   "metadata": {},
   "source": [
    "# Создание нового признака"
   ]
  },
  {
   "cell_type": "code",
   "execution_count": 23,
   "id": "9e554fc5",
   "metadata": {
    "scrolled": true
   },
   "outputs": [
    {
     "name": "stdout",
     "output_type": "stream",
     "text": [
      "United States: 172\n",
      "Japan: 110\n",
      "United Kingdom: 100\n",
      "China: 81\n",
      "India: 56\n",
      "Germany: 48\n",
      "Brazil: 46\n",
      "Spain: 45\n",
      "Italy: 45\n",
      "Iran: 40\n",
      "Russian Federation: 39\n",
      "France: 38\n",
      "Taiwan: 36\n",
      "Australia: 35\n",
      "Turkey: 34\n",
      "South Korea: 31\n",
      "Canada: 30\n",
      "Egypt: 20\n",
      "Chile: 18\n",
      "Czech Republic: 17\n",
      "Mexico: 17\n",
      "Thailand: 16\n",
      "Poland: 14\n",
      "Pakistan: 14\n",
      "Malaysia: 13\n",
      "Portugal: 13\n",
      "Netherlands: 13\n",
      "Sweden: 12\n",
      "Austria: 11\n",
      "Switzerland: 11\n",
      "Greece: 10\n",
      "South Africa: 10\n",
      "Finland: 9\n",
      "Ireland: 9\n",
      "Romania: 9\n",
      "Algeria: 8\n",
      "Colombia: 8\n",
      "Hungary: 8\n",
      "New Zealand: 8\n",
      "Belgium: 8\n",
      "Saudi Arabia: 7\n",
      "Denmark: 7\n",
      "Ukraine: 6\n",
      "Tunisia: 6\n",
      "Indonesia: 6\n",
      "Hong Kong: 6\n",
      "Israel: 6\n",
      "Morocco: 5\n",
      "Jordan: 5\n",
      "Norway: 5\n",
      "Slovakia: 4\n",
      "Argentina: 4\n",
      "Nigeria: 4\n",
      "United Arab Emirates: 4\n",
      "Lithuania: 3\n",
      "Latvia: 3\n",
      "Vietnam: 3\n",
      "Lebanon: 3\n",
      "Estonia: 3\n",
      "Croatia: 2\n",
      "Venezuela: 2\n",
      "Macao: 2\n",
      "Cyprus: 2\n",
      "Peru: 2\n",
      "Iraq: 2\n",
      "Iceland: 2\n",
      "Kazakhstan: 2\n",
      "Slovenia: 2\n",
      "Sri Lanka: 2\n",
      "Philippines: 2\n",
      "Singapore: 2\n",
      "Cuba: 1\n",
      "Georgia: 1\n",
      "Bangladesh: 1\n",
      "Tanzania: 1\n",
      "Montenegro: 1\n",
      "Luxembourg: 1\n",
      "Belarus: 1\n",
      "Bulgaria: 1\n",
      "Qatar: 1\n",
      "Kuwait: 1\n",
      "Oman: 1\n",
      "Puerto Rico: 1\n",
      "Kenya: 1\n",
      "Ghana: 1\n",
      "Northern Cyprus: 1\n",
      "Malta: 1\n",
      "Uganda: 1\n",
      "Brunei Darussalam: 1\n",
      "Costa Rica: 1\n",
      "Jamaica: 1\n",
      "Nepal: 1\n"
     ]
    }
   ],
   "source": [
    "value_counts = data['location'].value_counts()\n",
    "for index, value in value_counts.items():\n",
    "    print(f\"{index}: {value}\")"
   ]
  },
  {
   "cell_type": "code",
   "execution_count": 24,
   "id": "b160d355",
   "metadata": {},
   "outputs": [],
   "source": [
    "# создаем новый столбец, в котором будут только те страны, которые упоминаются более 20 раз\n",
    "data['Страна_более_20_раз'] = data['location'].apply(lambda x: x if value_counts[x] > 20 else '')"
   ]
  },
  {
   "cell_type": "markdown",
   "id": "64164dc6",
   "metadata": {},
   "source": [
    "*Два предыдущих кода были найдены с помощью чата GPT, были следующие запросы:* \n",
    "- Как вывести все значения одного столбца таблицы, но чтобы они не повторялись и рядом с каждым написать, сколько раз оно встречалось?\n",
    "- Создать новый столбец, где будут встречаться лишь те страны, которые упоминаются в предыдущем столбце более 20 раз"
   ]
  },
  {
   "cell_type": "code",
   "execution_count": 25,
   "id": "39ef1930",
   "metadata": {},
   "outputs": [
    {
     "name": "stdout",
     "output_type": "stream",
     "text": [
      "['' 'Australia' 'Brazil' 'Canada' 'China' 'France' 'Germany' 'India'\n",
      " 'Iran' 'Italy' 'Japan' 'Russian Federation' 'South Korea' 'Spain'\n",
      " 'Taiwan' 'Turkey' 'United Kingdom' 'United States']\n"
     ]
    }
   ],
   "source": [
    "print(np.unique(data['Страна_более_20_раз']))"
   ]
  },
  {
   "cell_type": "markdown",
   "id": "f0e786a6",
   "metadata": {},
   "source": [
    "Далее я хочу создать столбец, который позволит анализировать более широкие области. Можно распределить страны в зависимости от континента или материка, но в таком случае объединяться Южная и Северная Америка или Европа и Азия, а я предполагаю, что данные, например, по Северной Америке будут сильно отличаться от Южной, то же касается Европы и Азии. <br> <br> Я разделю страны на следующие регионы: Европа (Франция, Германия, Италия, Россия, Испания, Великобритания), Азия (Китай, Иран, Индия, Япония, Южная Корея, Тайвань, Турция), Северная Америка (США, Канада), Южная Америка (Бразилия), Австралия. <br> <br> Территория Турции и РФ находятся сразу в двух частях света, однако лишь 2% Турции находится в Европе, поэтому её смело можно отнести к Азии, а учебная система в России больше пока что больше похожа на европейскую, а не на азатскую, поэтому также отношу нашу страну к Европе. <br> <br> Также я посчитала, что нет смысла добавлять страны в новый столбец, которые встречались менее 20 раз. Отсюда как раз можно сделать вывод, что африканские ВУЗы редко встречаются в данном рейтинге."
   ]
  },
  {
   "cell_type": "code",
   "execution_count": 26,
   "id": "3cd10104",
   "metadata": {},
   "outputs": [],
   "source": [
    "continent_dict = {\n",
    "    'Australia': 'Австралия',\n",
    "    'Brazil': 'Южная Америка',\n",
    "    'Canada': 'Северная Америка',\n",
    "    'China': 'Азия',\n",
    "    'France': 'Европа',\n",
    "    'Germany': 'Европа',\n",
    "    'India': 'Азия',\n",
    "    'Iran': 'Азия',\n",
    "    'Italy': 'Европа',\n",
    "    'Japan': 'Азия',\n",
    "    'Russian Federation': 'Европа',\n",
    "    'South Korea': 'Азия',\n",
    "    'Spain': 'Европа',\n",
    "    'Taiwan': 'Азия',\n",
    "    'Turkey': 'Азия',\n",
    "    'United Kingdom': 'Европа',\n",
    "    'United States': 'Северная Америка',\n",
    "}\n",
    "\n",
    "data['Большие регионы'] = data['location'].apply(lambda x: continent_dict.get(x, 'Неизвестно'))"
   ]
  },
  {
   "cell_type": "markdown",
   "id": "500abfa8",
   "metadata": {},
   "source": [
    "*Данный код был найден с помощью чата, запрос следующий: У нас есть столбец таблицы с названием стран, сами страны могут повторяться. Нужно создать новый столбец, где вместо названия страны будет написан континент, где он располагается. Для создания этого столбца должна быть функция, где я буду перебирать каждую страну и рядом с ней писать название континента.*\n"
   ]
  },
  {
   "cell_type": "code",
   "execution_count": 27,
   "id": "198b2695",
   "metadata": {},
   "outputs": [
    {
     "data": {
      "text/html": [
       "<div>\n",
       "<style scoped>\n",
       "    .dataframe tbody tr th:only-of-type {\n",
       "        vertical-align: middle;\n",
       "    }\n",
       "\n",
       "    .dataframe tbody tr th {\n",
       "        vertical-align: top;\n",
       "    }\n",
       "\n",
       "    .dataframe thead th {\n",
       "        text-align: right;\n",
       "    }\n",
       "</style>\n",
       "<table border=\"1\" class=\"dataframe\">\n",
       "  <thead>\n",
       "    <tr style=\"text-align: right;\">\n",
       "      <th></th>\n",
       "      <th>rank_order</th>\n",
       "      <th>rank</th>\n",
       "      <th>name</th>\n",
       "      <th>scores_overall</th>\n",
       "      <th>scores_teaching</th>\n",
       "      <th>scores_research</th>\n",
       "      <th>scores_citations</th>\n",
       "      <th>scores_industry_income</th>\n",
       "      <th>scores_international_outlook</th>\n",
       "      <th>location</th>\n",
       "      <th>stats_number_students</th>\n",
       "      <th>stats_female_ratio</th>\n",
       "      <th>Большие регионы</th>\n",
       "    </tr>\n",
       "  </thead>\n",
       "  <tbody>\n",
       "    <tr>\n",
       "      <th>0</th>\n",
       "      <td>10</td>\n",
       "      <td>1</td>\n",
       "      <td>University of Oxford</td>\n",
       "      <td>95.4</td>\n",
       "      <td>90.5</td>\n",
       "      <td>99.6</td>\n",
       "      <td>98.4</td>\n",
       "      <td>65.5</td>\n",
       "      <td>96.4</td>\n",
       "      <td>United Kingdom</td>\n",
       "      <td>20665</td>\n",
       "      <td>46.0</td>\n",
       "      <td>Европа</td>\n",
       "    </tr>\n",
       "    <tr>\n",
       "      <th>1</th>\n",
       "      <td>20</td>\n",
       "      <td>2</td>\n",
       "      <td>California Institute of Technology</td>\n",
       "      <td>94.5</td>\n",
       "      <td>92.1</td>\n",
       "      <td>97.2</td>\n",
       "      <td>97.9</td>\n",
       "      <td>88.0</td>\n",
       "      <td>82.5</td>\n",
       "      <td>United States</td>\n",
       "      <td>2240</td>\n",
       "      <td>34.0</td>\n",
       "      <td>Северная Америка</td>\n",
       "    </tr>\n",
       "    <tr>\n",
       "      <th>2</th>\n",
       "      <td>30</td>\n",
       "      <td>3</td>\n",
       "      <td>University of Cambridge</td>\n",
       "      <td>94.4</td>\n",
       "      <td>91.4</td>\n",
       "      <td>98.7</td>\n",
       "      <td>95.8</td>\n",
       "      <td>59.3</td>\n",
       "      <td>95.0</td>\n",
       "      <td>United Kingdom</td>\n",
       "      <td>18980</td>\n",
       "      <td>47.0</td>\n",
       "      <td>Европа</td>\n",
       "    </tr>\n",
       "    <tr>\n",
       "      <th>3</th>\n",
       "      <td>40</td>\n",
       "      <td>4</td>\n",
       "      <td>Stanford University</td>\n",
       "      <td>94.3</td>\n",
       "      <td>92.8</td>\n",
       "      <td>96.4</td>\n",
       "      <td>99.9</td>\n",
       "      <td>66.2</td>\n",
       "      <td>79.5</td>\n",
       "      <td>United States</td>\n",
       "      <td>16135</td>\n",
       "      <td>43.0</td>\n",
       "      <td>Северная Америка</td>\n",
       "    </tr>\n",
       "    <tr>\n",
       "      <th>4</th>\n",
       "      <td>50</td>\n",
       "      <td>5</td>\n",
       "      <td>Massachusetts Institute of Technology</td>\n",
       "      <td>93.6</td>\n",
       "      <td>90.5</td>\n",
       "      <td>92.4</td>\n",
       "      <td>99.5</td>\n",
       "      <td>86.9</td>\n",
       "      <td>89.0</td>\n",
       "      <td>United States</td>\n",
       "      <td>11247</td>\n",
       "      <td>39.0</td>\n",
       "      <td>Северная Америка</td>\n",
       "    </tr>\n",
       "    <tr>\n",
       "      <th>...</th>\n",
       "      <td>...</td>\n",
       "      <td>...</td>\n",
       "      <td>...</td>\n",
       "      <td>...</td>\n",
       "      <td>...</td>\n",
       "      <td>...</td>\n",
       "      <td>...</td>\n",
       "      <td>...</td>\n",
       "      <td>...</td>\n",
       "      <td>...</td>\n",
       "      <td>...</td>\n",
       "      <td>...</td>\n",
       "      <td>...</td>\n",
       "    </tr>\n",
       "    <tr>\n",
       "      <th>1392</th>\n",
       "      <td>13930</td>\n",
       "      <td>1001+</td>\n",
       "      <td>Yuan Ze University</td>\n",
       "      <td>10.7–22.1</td>\n",
       "      <td>17.3</td>\n",
       "      <td>13.9</td>\n",
       "      <td>15.5</td>\n",
       "      <td>47.0</td>\n",
       "      <td>28.3</td>\n",
       "      <td>Taiwan</td>\n",
       "      <td>8356</td>\n",
       "      <td>42.0</td>\n",
       "      <td>Азия</td>\n",
       "    </tr>\n",
       "    <tr>\n",
       "      <th>1393</th>\n",
       "      <td>13940</td>\n",
       "      <td>1001+</td>\n",
       "      <td>Zagazig University</td>\n",
       "      <td>10.7–22.1</td>\n",
       "      <td>13.6</td>\n",
       "      <td>7.7</td>\n",
       "      <td>29.6</td>\n",
       "      <td>34.4</td>\n",
       "      <td>38.8</td>\n",
       "      <td>Egypt</td>\n",
       "      <td>156419</td>\n",
       "      <td>53.0</td>\n",
       "      <td>Неизвестно</td>\n",
       "    </tr>\n",
       "    <tr>\n",
       "      <th>1394</th>\n",
       "      <td>13950</td>\n",
       "      <td>1001+</td>\n",
       "      <td>University of Zagreb</td>\n",
       "      <td>10.7–22.1</td>\n",
       "      <td>17.8</td>\n",
       "      <td>12.9</td>\n",
       "      <td>25.3</td>\n",
       "      <td>37.4</td>\n",
       "      <td>33.0</td>\n",
       "      <td>Croatia</td>\n",
       "      <td>68216</td>\n",
       "      <td>59.0</td>\n",
       "      <td>Неизвестно</td>\n",
       "    </tr>\n",
       "    <tr>\n",
       "      <th>1395</th>\n",
       "      <td>13960</td>\n",
       "      <td>1001+</td>\n",
       "      <td>University of Zanjan</td>\n",
       "      <td>10.7–22.1</td>\n",
       "      <td>17.0</td>\n",
       "      <td>12.3</td>\n",
       "      <td>28.5</td>\n",
       "      <td>43.8</td>\n",
       "      <td>18.7</td>\n",
       "      <td>Iran</td>\n",
       "      <td>9980</td>\n",
       "      <td>54.0</td>\n",
       "      <td>Азия</td>\n",
       "    </tr>\n",
       "    <tr>\n",
       "      <th>1396</th>\n",
       "      <td>13970</td>\n",
       "      <td>1001+</td>\n",
       "      <td>Zhejiang University of Technology</td>\n",
       "      <td>10.7–22.1</td>\n",
       "      <td>16.7</td>\n",
       "      <td>14.2</td>\n",
       "      <td>32.3</td>\n",
       "      <td>51.4</td>\n",
       "      <td>24.4</td>\n",
       "      <td>China</td>\n",
       "      <td>31228</td>\n",
       "      <td>52.0</td>\n",
       "      <td>Азия</td>\n",
       "    </tr>\n",
       "  </tbody>\n",
       "</table>\n",
       "<p>1397 rows × 13 columns</p>\n",
       "</div>"
      ],
      "text/plain": [
       "      rank_order   rank                                   name scores_overall  \\\n",
       "0             10      1                   University of Oxford           95.4   \n",
       "1             20      2     California Institute of Technology           94.5   \n",
       "2             30      3                University of Cambridge           94.4   \n",
       "3             40      4                    Stanford University           94.3   \n",
       "4             50      5  Massachusetts Institute of Technology           93.6   \n",
       "...          ...    ...                                    ...            ...   \n",
       "1392       13930  1001+                     Yuan Ze University      10.7–22.1   \n",
       "1393       13940  1001+                     Zagazig University      10.7–22.1   \n",
       "1394       13950  1001+                   University of Zagreb      10.7–22.1   \n",
       "1395       13960  1001+                   University of Zanjan      10.7–22.1   \n",
       "1396       13970  1001+      Zhejiang University of Technology      10.7–22.1   \n",
       "\n",
       "      scores_teaching  scores_research  scores_citations  \\\n",
       "0                90.5             99.6              98.4   \n",
       "1                92.1             97.2              97.9   \n",
       "2                91.4             98.7              95.8   \n",
       "3                92.8             96.4              99.9   \n",
       "4                90.5             92.4              99.5   \n",
       "...               ...              ...               ...   \n",
       "1392             17.3             13.9              15.5   \n",
       "1393             13.6              7.7              29.6   \n",
       "1394             17.8             12.9              25.3   \n",
       "1395             17.0             12.3              28.5   \n",
       "1396             16.7             14.2              32.3   \n",
       "\n",
       "      scores_industry_income  scores_international_outlook        location  \\\n",
       "0                       65.5                          96.4  United Kingdom   \n",
       "1                       88.0                          82.5   United States   \n",
       "2                       59.3                          95.0  United Kingdom   \n",
       "3                       66.2                          79.5   United States   \n",
       "4                       86.9                          89.0   United States   \n",
       "...                      ...                           ...             ...   \n",
       "1392                    47.0                          28.3          Taiwan   \n",
       "1393                    34.4                          38.8           Egypt   \n",
       "1394                    37.4                          33.0         Croatia   \n",
       "1395                    43.8                          18.7            Iran   \n",
       "1396                    51.4                          24.4           China   \n",
       "\n",
       "      stats_number_students  stats_female_ratio   Большие регионы  \n",
       "0                     20665                46.0            Европа  \n",
       "1                      2240                34.0  Северная Америка  \n",
       "2                     18980                47.0            Европа  \n",
       "3                     16135                43.0  Северная Америка  \n",
       "4                     11247                39.0  Северная Америка  \n",
       "...                     ...                 ...               ...  \n",
       "1392                   8356                42.0              Азия  \n",
       "1393                 156419                53.0        Неизвестно  \n",
       "1394                  68216                59.0        Неизвестно  \n",
       "1395                   9980                54.0              Азия  \n",
       "1396                  31228                52.0              Азия  \n",
       "\n",
       "[1397 rows x 13 columns]"
      ]
     },
     "execution_count": 27,
     "metadata": {},
     "output_type": "execute_result"
    }
   ],
   "source": [
    "#Ещё раз перечислим данные, которые пригодятся в дальнейшем.\n",
    "useful_cols = ['rank_order', 'rank', 'name', 'scores_overall', 'scores_teaching', 'scores_research', 'scores_citations', 'scores_industry_income', 'scores_international_outlook', 'location', 'stats_number_students', 'stats_female_ratio', 'Большие регионы']\n",
    "data[useful_cols]"
   ]
  },
  {
   "cell_type": "markdown",
   "id": "3da90ae0",
   "metadata": {},
   "source": [
    "# Гипотезы"
   ]
  },
  {
   "cell_type": "markdown",
   "id": "808c1eb2",
   "metadata": {},
   "source": [
    "**Предварительные гипотезы, которые будут проверяться в дальнейшем:**\n",
    "1) Проверить гипотезу, что количество учащихся девушек никак не влияет на место в рейтинге.\n",
    "<br> 2) Проверить гипотезу, что оценка международных перспектив никак не влияет на место в рейтинге. <br> 3) Проверить гипотезу, чем выше 'scores_research', тем выше место университета в рейтинге."
   ]
  },
  {
   "cell_type": "markdown",
   "id": "a4af1d41",
   "metadata": {},
   "source": [
    "***Гипотеза 1*** <br> **Количество учащихся девушек никак не влияет на место университета в рейтинге.**"
   ]
  },
  {
   "cell_type": "markdown",
   "id": "8cd1b9b4",
   "metadata": {},
   "source": [
    "Для данной задачи нулевая гипотеза ($H_0$) будет состоять в том, что количество учащихся девушек не имеет статистически значимого влияния на место университета в рейтинге. Альтернативная гипотеза ($H_1$) будет состоять в том, что количество учащихся девушек имеет статистически значимое влияние на место в рейтинге."
   ]
  },
  {
   "cell_type": "code",
   "execution_count": 31,
   "id": "8c0fb35a",
   "metadata": {},
   "outputs": [
    {
     "name": "stdout",
     "output_type": "stream",
     "text": [
      "True statistic: -0.09581063841995871\n",
      "p-value: 0.4885114885114885\n",
      "Нулевая гипотеза не отвергается\n"
     ]
    }
   ],
   "source": [
    "# функция для расчета статистики\n",
    "def test_statistic(data):\n",
    "    return np.corrcoef(data[\"rank_order\"], data[\"stats_female_ratio\"])[0, 1]\n",
    "\n",
    "# расчет истинной статистики\n",
    "true_stat = test_statistic(data)\n",
    "\n",
    "# генерация бутстрепированных выборок\n",
    "n_samples = 1000\n",
    "statistics = []\n",
    "for i in range(n_samples):\n",
    "    sample = data.sample(frac=1, replace=True)\n",
    "    stat = test_statistic(sample)\n",
    "    statistics.append(stat)\n",
    "\n",
    "# расчет p-value\n",
    "p_value = (np.sum(np.abs(statistics) >= np.abs(true_stat)) + 1) / (n_samples + 1)\n",
    "\n",
    "# вывод результатов\n",
    "print(\"True statistic:\", true_stat)\n",
    "print(\"p-value:\", p_value)\n",
    "\n",
    "# оценить результаты\n",
    "if p_value < 0.05:\n",
    "    print(\"Отвергаем нулевую гипотезу в пользу альтернативной\")\n",
    "else:\n",
    "    print(\"Нулевая гипотеза не отвергается\")"
   ]
  },
  {
   "cell_type": "markdown",
   "id": "1209af2f",
   "metadata": {},
   "source": [
    "На уровне значимости 5% p-value оказалось больше => нет оснований отвергать нулевую гипотезу, а значит, количество учащихся девушек не влияет на место университета в рейтинге."
   ]
  },
  {
   "cell_type": "markdown",
   "id": "927bc37c",
   "metadata": {},
   "source": [
    "***Гипотеза 2***\n",
    "<br>**Чем выше 'scores_research', тем выше место университета в рейтинге.**\n",
    "<br>*Не знаю, насколько правильно я интерпретировала, но получается, что исходя из гипотезы, чем выше 'scores_research', тем значение 'rank_order' должно быть меньше (так как чем меньше 'rank_order', тем выше место универа в рейтинге. Scores_research - объем, индекс и репутация университета. Rank_order - место ВУЗа в рейтинге.*"
   ]
  },
  {
   "cell_type": "code",
   "execution_count": 32,
   "id": "52e2a0cf",
   "metadata": {},
   "outputs": [
    {
     "name": "stdout",
     "output_type": "stream",
     "text": [
      "Коэффициент корреляции Пирсона: -0.770\n"
     ]
    }
   ],
   "source": [
    "import pandas as pd\n",
    "from scipy.stats import pearsonr, ttest_ind\n",
    "\n",
    "# рассчитать коэффициент корреляции Пирсона между rank_order и scores_research:\n",
    "corr, _ = pearsonr(data['rank_order'], data['scores_research'])\n",
    "print('Коэффициент корреляции Пирсона: %.3f' % corr)"
   ]
  },
  {
   "cell_type": "markdown",
   "id": "99cee097",
   "metadata": {},
   "source": [
    "Отрицательный коэффициент корреляции показывает на отрицательную зависимость между двумя переменными, то есть увеличение одной переменной ведёт к уменьшению второй => увеличивается значение переменной 'scores_research', уменьшается значение переменной 'rank_order', а значит, тем выше место университета в рейтинге.\n",
    "\n",
    "Проверим теперь с помощью линейной регерессии."
   ]
  },
  {
   "cell_type": "code",
   "execution_count": 33,
   "id": "b7987aa9",
   "metadata": {},
   "outputs": [
    {
     "name": "stdout",
     "output_type": "stream",
     "text": [
      "Коэффициент наклона:  -177.15318687434458\n",
      "p-значение:  1.5248757461160475e-274\n",
      "Нулевая гипотеза отвергнута, есть статистически значимая обратная связь между 'scores_research' и 'rank_order'.\n"
     ]
    }
   ],
   "source": [
    "import pandas as pd\n",
    "from scipy import stats\n",
    "\n",
    "# загрузка и подготовка данных\n",
    "x = data['scores_research']\n",
    "y = data['rank_order']\n",
    "\n",
    "# проведение линейной регрессии и получение результатов\n",
    "slope, intercept, r_value, p_value, std_err = stats.linregress(x, y)\n",
    "\n",
    "# вывод коэффициента наклона и p-значения\n",
    "print(\"Коэффициент наклона: \", slope)\n",
    "print(\"p-значение: \", p_value)\n",
    "\n",
    "# проверка статистической значимости коэффициента наклона\n",
    "if p_value < 0.05:\n",
    "    print(\"Нулевая гипотеза отвергнута, есть статистически значимая обратная связь между 'scores_research' и 'rank_order'.\")\n",
    "else:\n",
    "    print(\"Нулевая гипотеза не отвергнута, нет достаточных доказательств статистически значимой обратной связи между scores_research и rank_order.\")"
   ]
  },
  {
   "cell_type": "code",
   "execution_count": 34,
   "id": "5ad42674",
   "metadata": {},
   "outputs": [
    {
     "name": "stdout",
     "output_type": "stream",
     "text": [
      "Нулевая гипотеза отвергнута, есть статистически значимая обратная связь между 'scores_research' и 'rank_order'.\n"
     ]
    }
   ],
   "source": [
    "import statsmodels.api as sm\n",
    "\n",
    "# добавление константы для модели линейной регрессии\n",
    "X = sm.add_constant(data['scores_research'])\n",
    "\n",
    "# создание модели линейной регрессии\n",
    "model = sm.OLS(data['rank_order'], X)\n",
    "\n",
    "# обучение модели\n",
    "results = model.fit()\n",
    "\n",
    "# проверка статистической значимости коэффициента наклона\n",
    "alpha = 0.05\n",
    "if results.pvalues[1] < alpha:\n",
    "    print(\"Нулевая гипотеза отвергнута, есть статистически значимая обратная связь между 'scores_research' и 'rank_order'.\")\n",
    "else:\n",
    "    print(\"Нулевая гипотеза не отвергнута, нет достаточных доказательств статистически значимой обратной связи между scores_research и rank_order.\")"
   ]
  },
  {
   "cell_type": "markdown",
   "id": "f8e7856e",
   "metadata": {},
   "source": [
    "Два кода выше - это рвзные ответы двух чатов GPT на один и тот же вопрос: Проверить гипотезу, чем выше 'scores_research', тем меньше значение 'rank_order'. Проверить с помощью линейной регрессии.\n",
    "\n",
    "Первый код от https://you.com/search?q=who+are+you&tbm=youchat&cfr=chat\n",
    "<br>Второй от бота в ТГ @gpt3_unlim_chatbot"
   ]
  },
  {
   "cell_type": "code",
   "execution_count": 35,
   "id": "34b52787",
   "metadata": {},
   "outputs": [
    {
     "name": "stdout",
     "output_type": "stream",
     "text": [
      "p-значение: 4.473543642082631e-233\n",
      "Отвергаем нулевую гипотезу в пользу альтернативной\n"
     ]
    }
   ],
   "source": [
    "threshold = data['scores_research'].median()\n",
    "\n",
    "# разделение университетов на две группы на основе значения scores_research\n",
    "high_scores = data[data['scores_research'] >= threshold]\n",
    "low_scores = data[data['scores_research'] < threshold]\n",
    "\n",
    "# проведение t-теста\n",
    "t_stat, p_value1 = ttest_ind(high_scores['rank_order'], low_scores['rank_order'], equal_var=False)\n",
    "\n",
    "# вывод p-значения\n",
    "print(\"p-значение:\", p_value1)\n",
    "\n",
    "# оценить результаты\n",
    "if p_value1 < 0.05:\n",
    "    print(\"Отвергаем нулевую гипотезу в пользу альтернативной\")\n",
    "else:\n",
    "    print(\"Нулевая гипотеза не отвергается\")"
   ]
  },
  {
   "cell_type": "markdown",
   "id": "cff9d03a",
   "metadata": {},
   "source": [
    "В этом контексте, чтобы проверить гипотезу на основе t-теста, нужно разделить университеты на две группы: те, у которых значения scores_research выше или равны пороговому значению, и те, у которых значения scores_research ниже порогового значения. Затем рассчитывается t-статистика и соответствующее p-значение. Пороговое значение принято за медиану переменной 'scores_research'.\n",
    "\n",
    "В данном случае p-значение почти приближено к нулю, что означает, что разница между средними значениями групп с высокими и низкими значениями scores_research является статистически значимой на уровне значимости 0,05 или даже меньше. В данном случае может быть отвергнута нулевая гипотеза в пользу альтернативной гипотезы о том, что значения места в рейтинге различаются в зависимости от значений 'scores_research'.\n",
    "\n",
    "Данный код был сгенирирован чатом, изначальный запрос был такой: \n",
    "- Имеется следующая таблица со столбцами: \n",
    "useful_cols = ['rank_order', 'rank', 'name', 'scores_overall', 'scores_teaching', 'scores_research', 'scores_citations', 'scores_industry_income', 'scores_international_outlook', 'location', 'stats_number_students', 'stats_female_ratio']\n",
    "Проверить гипотезу, чем выше 'scores_research', тем меньше значение 'rank_order'. \n",
    "\n",
    "\n",
    "Но код был неполным и нерабочим, поэтому использовались ещё вспомогательные вопросы, такие как: \n",
    "- Корреляция в предыдущей задаче оказалась отрицательной, как теперь понять с помощью t-теста отвергается нулевая гипотеза  или нет в Python. Нулевая гипотеза - чем выше 'scores_research', тем меньше значение 'rank_order'. \n",
    "- Может ли p-значение: равняться 4.473543642082631e-233\n",
    "\n",
    "\n",
    "*Иногда бывает, что я пишу запрос на генерацию кодом, а чат просто словами объясняет, как что должно работать, но елси в конце добавить \"решить в Python\" он уже выдаёт полноценный код. Опять-таки, он не сразу может работать, но если ему описывать все ошибки, на которых летит код, он пытается её исправить, иногда успешно, а иногда проще новый видоизменённый запрос отправить или я пробую другие аналоги чатов, например, много ботов с чатами GPT в телеграмме*"
   ]
  },
  {
   "cell_type": "markdown",
   "id": "ff25f0a0",
   "metadata": {},
   "source": [
    "Общий вывод по гипотезе 2: есть значимая обратная связь между scores research и rank order. "
   ]
  },
  {
   "cell_type": "markdown",
   "id": "59ad7977",
   "metadata": {},
   "source": [
    "***Гипотеза 3***\n",
    "<br>Проверить гипотезу, что оценка международных перспектив (scores_international_outlook) никак не влияет на место в рейтинге (rank_order).\n",
    "<br>Нулевая гипотеза ($H_0$): оценка международных перспектив не влияет на место в рейтинге. <br>Альтернативная гипотеза ($H_1$): оценка международных перспектив влияет на место в рейтинге."
   ]
  },
  {
   "cell_type": "code",
   "execution_count": 36,
   "id": "f59d5de5",
   "metadata": {},
   "outputs": [
    {
     "name": "stdout",
     "output_type": "stream",
     "text": [
      "                            OLS Regression Results                            \n",
      "==============================================================================\n",
      "Dep. Variable:             rank_order   R-squared:                       0.424\n",
      "Model:                            OLS   Adj. R-squared:                  0.424\n",
      "Method:                 Least Squares   F-statistic:                     1029.\n",
      "Date:                Wed, 14 Jun 2023   Prob (F-statistic):          1.57e-169\n",
      "Time:                        19:01:58   Log-Likelihood:                -13195.\n",
      "No. Observations:                1397   AIC:                         2.639e+04\n",
      "Df Residuals:                    1395   BIC:                         2.640e+04\n",
      "Df Model:                           1                                         \n",
      "Covariance Type:            nonrobust                                         \n",
      "================================================================================================\n",
      "                                   coef    std err          t      P>|t|      [0.025      0.975]\n",
      "------------------------------------------------------------------------------------------------\n",
      "const                         1.231e+04    184.875     66.561      0.000    1.19e+04    1.27e+04\n",
      "scores_international_outlook  -112.8562      3.519    -32.072      0.000    -119.759    -105.953\n",
      "==============================================================================\n",
      "Omnibus:                       42.238   Durbin-Watson:                   0.752\n",
      "Prob(Omnibus):                  0.000   Jarque-Bera (JB):               21.520\n",
      "Skew:                          -0.083   Prob(JB):                     2.12e-05\n",
      "Kurtosis:                       2.415   Cond. No.                         119.\n",
      "==============================================================================\n",
      "\n",
      "Notes:\n",
      "[1] Standard Errors assume that the covariance matrix of the errors is correctly specified.\n"
     ]
    }
   ],
   "source": [
    "#пройдёмся по регерессионной модели.\n",
    "model = sm.OLS(data['rank_order'], sm.add_constant(data['scores_international_outlook'])).fit()\n",
    "\n",
    "print(model.summary())"
   ]
  },
  {
   "cell_type": "markdown",
   "id": "c15b3834",
   "metadata": {},
   "source": [
    "Умная штука, которую мне посоветовал сделать чат, полностью её интерпретировать я не могу, но зато уже здесь видно, что p-value практически равно нулю, то есть оно будет меньше уровней значимости в 10%, 5% и 1%, но далее проверим через t-test."
   ]
  },
  {
   "cell_type": "code",
   "execution_count": 37,
   "id": "945ed35e",
   "metadata": {},
   "outputs": [
    {
     "name": "stdout",
     "output_type": "stream",
     "text": [
      "t-statistic: -25.46651525985374\n",
      "p-value: 8.431310445951085e-118\n",
      "Нулевая гипотеза отвергается в пользу альтернативной: оценка международных перспектив влияет на место в рейтинге.\n"
     ]
    }
   ],
   "source": [
    "from scipy.stats import ttest_ind\n",
    "\n",
    "#Поделим данные на две группы в зависимости от международной оценке.\n",
    "high_scores = data[data['scores_international_outlook'] >= data['scores_international_outlook'].median()]['rank_order']\n",
    "low_scores = data[data['scores_international_outlook'] < data['scores_international_outlook'].median()]['rank_order']\n",
    "\n",
    "# Собственно, t-тест\n",
    "t_stat, p_value = ttest_ind(high_scores, low_scores)\n",
    "\n",
    "#Возьмём в этот раз уровень значимости в 1%.\n",
    "alpha1 = 0.01\n",
    "\n",
    "#Напечатаем результаты.\n",
    "print('t-statistic:', t_stat)\n",
    "print('p-value:', p_value)\n",
    "\n",
    "if p_value < alpha1:\n",
    "    print(\"Нулевая гипотеза отвергается в пользу альтернативной: оценка международных перспектив влияет на место в рейтинге.\")\n",
    "else:\n",
    "    print(\"Нулевая гипотеза не отвергается: оценка международных перспектив влияет на место в рейтинге.\")"
   ]
  },
  {
   "cell_type": "markdown",
   "id": "3d4c37fb",
   "metadata": {},
   "source": [
    "***Гипотеза 4***\n",
    "<br>Я думаю, что университеты Южной Америки и Азии не могут конкрурировать, например, с американским Гарвардом или британским Оксфордом. Предположу, что, если Вуз находится в Южной Америке или Азии, то значение по 'scores_research' меньше его медианы.\n",
    "<br>Нулевая гипотеза: scores research по Южной Америке и Азии больше или равны медианному значению\". <br>Альтернативная гипотеза: scores research по Южной Америке и Азии меньше медианного значения."
   ]
  },
  {
   "cell_type": "code",
   "execution_count": 40,
   "id": "91ccf0fe",
   "metadata": {},
   "outputs": [
    {
     "name": "stdout",
     "output_type": "stream",
     "text": [
      "Нулевая гипотеза отвергнута. Scores Research Южной Америки и Азии меньше медианного значения 18.0.\n"
     ]
    }
   ],
   "source": [
    "# Создаем выборки для Африки и Азии\n",
    "south_america = data.loc[data['Большие регионы'] == 'Южная Америка', 'scores_research']\n",
    "asia = data.loc[data['Большие регионы'] == 'Азия', 'scores_research']\n",
    "\n",
    "# Вычисляем медиану для всего столбца\n",
    "median = data['scores_research'].median()\n",
    "\n",
    "# Вычисляем t-score и p-value\n",
    "t_score, p_value = ttest_ind(south_america, asia)\n",
    "\n",
    "# Определяем наше решение на основе p-value и порогового значения alpha=0.05\n",
    "if p_value < 0.05:\n",
    "    print(f\"Нулевая гипотеза отвергнута. Scores Research Южной Америки и Азии меньше медианного значения {median}.\")\n",
    "else:\n",
    "    print(\"Нулевую гипотезу не удалось отвергнуть.\")"
   ]
  },
  {
   "cell_type": "markdown",
   "id": "ef6b4af9",
   "metadata": {},
   "source": [
    "А теперь проверим то же самое для среднего значения."
   ]
  },
  {
   "cell_type": "code",
   "execution_count": 41,
   "id": "d33b7b94",
   "metadata": {},
   "outputs": [
    {
     "name": "stdout",
     "output_type": "stream",
     "text": [
      "Нулевая гипотеза отвергнута. Scores Research Южной Америки и Азии меньше среднего значения 23.970365068002856.\n"
     ]
    }
   ],
   "source": [
    "# Создаем выборки для Африки и Азии\n",
    "south_america = data.loc[data['Большие регионы'] == 'Южная Америка', 'scores_research']\n",
    "asia = data.loc[data['Большие регионы'] == 'Азия', 'scores_research']\n",
    "\n",
    "# Вычисляем медиану для всего столбца\n",
    "mean = data['scores_research'].mean()\n",
    "\n",
    "# Вычисляем t-score и p-value\n",
    "t_score, p_value = ttest_ind(south_america, asia)\n",
    "\n",
    "# Определяем наше решение на основе p-value и порогового значения alpha=0.05\n",
    "if p_value < 0.05:\n",
    "    print(f\"Нулевая гипотеза отвергнута. Scores Research Южной Америки и Азии меньше среднего значения {mean}.\")\n",
    "else:\n",
    "    print(\"Нулевую гипотезу не удалось отвергнуть.\")"
   ]
  },
  {
   "cell_type": "markdown",
   "id": "fcc6247d",
   "metadata": {},
   "source": [
    "Получается предположение подтвердилось, что в Южной Америке и Азии в среднем нет столь сильных ВУЗов."
   ]
  },
  {
   "cell_type": "markdown",
   "id": "f3110897",
   "metadata": {},
   "source": [
    "***Гипотеза 5***\n",
    "Проверить гипотезу, что наибольшие значения 'scores_citations' чаще всего встречаются в Европе и Северной Америке. (Citations score - исследовательское влияние университета).\n",
    "\n",
    "Нулевая гипотеза ($H_0$): нет различий между средними значениями 'scores_citations' для групп, связанных со столбцом 'Большие регионы'. <br>Альтернативная гипотеза ($H_1$): средние значения 'scores_citations' для Европы и Северной Америки выше, чем для других регионов. "
   ]
  },
  {
   "cell_type": "code",
   "execution_count": 43,
   "id": "adbf0b57",
   "metadata": {},
   "outputs": [
    {
     "name": "stdout",
     "output_type": "stream",
     "text": [
      "Отвергаем нулевую гипотезу:  средние значения 'scores_citations' для Европы и Северной Америки выше, чем для других регионов.\n"
     ]
    }
   ],
   "source": [
    "from scipy.stats import ttest_ind\n",
    "\n",
    "europe_na = data[data['Большие регионы'].isin(['Европа', 'Северная Америка'])]\n",
    "other = data[~data['Большие регионы'].isin(['Европа', 'Северная Америка'])]\n",
    "\n",
    "# Выполняем t-тест\n",
    "t, p = ttest_ind(europe_na['scores_citations'], other['scores_citations'], equal_var=False)\n",
    "\n",
    "# Определяем порог значимости\n",
    "alpha = 0.05\n",
    "\n",
    "# Проверяем результаты теста\n",
    "if p < alpha:\n",
    "    print(\"Отвергаем нулевую гипотезу:  средние значения 'scores_citations' для Европы и Северной Америки выше, чем для других регионов.\")\n",
    "else:\n",
    "    print(\"Не отвергаем нулевую гипотезу: различия в средних значениях 'scores_citations' между группами случайны.\")"
   ]
  },
  {
   "cell_type": "markdown",
   "id": "fb461ebf",
   "metadata": {},
   "source": [
    "Таким образом, моя гипотеза подтвердилась, что оценка исследовательского влияния университетов Европы и Северной Америке выше, чем в других регионах.\n",
    "\n",
    "*Код сгенерирован исходя из следующего запроса чату: Дан столбец 'B', который включает в себя такие данные как 'Южная Америка', 'Европа', 'Азия', 'Северная Америка', 'Австралия', 'Неизвестно'. Также есть столбец 'А', который содержит данные типа float.\n",
    "Проверить гипотезу, что наивысшие значения столбца 'А' чаще всего встречаются в Европе и Северной Америке. Решить в Python*"
   ]
  },
  {
   "cell_type": "markdown",
   "id": "2cfa0c21",
   "metadata": {},
   "source": [
    "# Машинное обучение"
   ]
  },
  {
   "cell_type": "markdown",
   "id": "9b985dff",
   "metadata": {},
   "source": [
    "Попробуем предсказать оценку преподавания. 'scores_teaching' будет целевой переменной, остальные - объясняющими. В дальнейшем нужно будет изучить связь объясняемой переменной с объясняющими, найти корреляцию. В дальнейшем для обучения модели разобьём выборку на обучающую и тестовую."
   ]
  },
  {
   "cell_type": "code",
   "execution_count": 44,
   "id": "4483a0af",
   "metadata": {},
   "outputs": [
    {
     "name": "stdout",
     "output_type": "stream",
     "text": [
      "<class 'pandas.core.frame.DataFrame'>\n",
      "RangeIndex: 1397 entries, 0 to 1396\n",
      "Data columns (total 13 columns):\n",
      " #   Column                        Non-Null Count  Dtype  \n",
      "---  ------                        --------------  -----  \n",
      " 0   rank_order                    1397 non-null   int64  \n",
      " 1   rank                          1397 non-null   object \n",
      " 2   name                          1397 non-null   object \n",
      " 3   scores_overall                1397 non-null   object \n",
      " 4   scores_teaching               1397 non-null   float64\n",
      " 5   scores_research               1397 non-null   float64\n",
      " 6   scores_citations              1397 non-null   float64\n",
      " 7   scores_industry_income        1397 non-null   float64\n",
      " 8   scores_international_outlook  1397 non-null   float64\n",
      " 9   location                      1397 non-null   object \n",
      " 10  stats_number_students         1397 non-null   int64  \n",
      " 11  stats_female_ratio            1397 non-null   float64\n",
      " 12  Большие регионы               1397 non-null   object \n",
      "dtypes: float64(6), int64(2), object(5)\n",
      "memory usage: 142.0+ KB\n"
     ]
    }
   ],
   "source": [
    "data[useful_cols].info()"
   ]
  },
  {
   "cell_type": "markdown",
   "id": "1c78440b",
   "metadata": {},
   "source": [
    "Оставим только столбцы с числовыми значениями (пробовала провернуть последующий код для всей таблицы, но у меня не срабатывало, так как не все значения были числовыми и я решили пойти по пути наименьшего сопротивления)"
   ]
  },
  {
   "cell_type": "code",
   "execution_count": 46,
   "id": "dcd0aed2",
   "metadata": {},
   "outputs": [
    {
     "data": {
      "text/html": [
       "<div>\n",
       "<style scoped>\n",
       "    .dataframe tbody tr th:only-of-type {\n",
       "        vertical-align: middle;\n",
       "    }\n",
       "\n",
       "    .dataframe tbody tr th {\n",
       "        vertical-align: top;\n",
       "    }\n",
       "\n",
       "    .dataframe thead th {\n",
       "        text-align: right;\n",
       "    }\n",
       "</style>\n",
       "<table border=\"1\" class=\"dataframe\">\n",
       "  <thead>\n",
       "    <tr style=\"text-align: right;\">\n",
       "      <th></th>\n",
       "      <th>rank_order</th>\n",
       "      <th>scores_teaching</th>\n",
       "      <th>scores_research</th>\n",
       "      <th>scores_citations</th>\n",
       "      <th>scores_industry_income</th>\n",
       "      <th>scores_international_outlook</th>\n",
       "      <th>stats_number_students</th>\n",
       "      <th>stats_female_ratio</th>\n",
       "    </tr>\n",
       "  </thead>\n",
       "  <tbody>\n",
       "    <tr>\n",
       "      <th>0</th>\n",
       "      <td>10</td>\n",
       "      <td>90.5</td>\n",
       "      <td>99.6</td>\n",
       "      <td>98.4</td>\n",
       "      <td>65.5</td>\n",
       "      <td>96.4</td>\n",
       "      <td>20665</td>\n",
       "      <td>46.0</td>\n",
       "    </tr>\n",
       "    <tr>\n",
       "      <th>1</th>\n",
       "      <td>20</td>\n",
       "      <td>92.1</td>\n",
       "      <td>97.2</td>\n",
       "      <td>97.9</td>\n",
       "      <td>88.0</td>\n",
       "      <td>82.5</td>\n",
       "      <td>2240</td>\n",
       "      <td>34.0</td>\n",
       "    </tr>\n",
       "    <tr>\n",
       "      <th>2</th>\n",
       "      <td>30</td>\n",
       "      <td>91.4</td>\n",
       "      <td>98.7</td>\n",
       "      <td>95.8</td>\n",
       "      <td>59.3</td>\n",
       "      <td>95.0</td>\n",
       "      <td>18980</td>\n",
       "      <td>47.0</td>\n",
       "    </tr>\n",
       "    <tr>\n",
       "      <th>3</th>\n",
       "      <td>40</td>\n",
       "      <td>92.8</td>\n",
       "      <td>96.4</td>\n",
       "      <td>99.9</td>\n",
       "      <td>66.2</td>\n",
       "      <td>79.5</td>\n",
       "      <td>16135</td>\n",
       "      <td>43.0</td>\n",
       "    </tr>\n",
       "    <tr>\n",
       "      <th>4</th>\n",
       "      <td>50</td>\n",
       "      <td>90.5</td>\n",
       "      <td>92.4</td>\n",
       "      <td>99.5</td>\n",
       "      <td>86.9</td>\n",
       "      <td>89.0</td>\n",
       "      <td>11247</td>\n",
       "      <td>39.0</td>\n",
       "    </tr>\n",
       "    <tr>\n",
       "      <th>...</th>\n",
       "      <td>...</td>\n",
       "      <td>...</td>\n",
       "      <td>...</td>\n",
       "      <td>...</td>\n",
       "      <td>...</td>\n",
       "      <td>...</td>\n",
       "      <td>...</td>\n",
       "      <td>...</td>\n",
       "    </tr>\n",
       "    <tr>\n",
       "      <th>1392</th>\n",
       "      <td>13930</td>\n",
       "      <td>17.3</td>\n",
       "      <td>13.9</td>\n",
       "      <td>15.5</td>\n",
       "      <td>47.0</td>\n",
       "      <td>28.3</td>\n",
       "      <td>8356</td>\n",
       "      <td>42.0</td>\n",
       "    </tr>\n",
       "    <tr>\n",
       "      <th>1393</th>\n",
       "      <td>13940</td>\n",
       "      <td>13.6</td>\n",
       "      <td>7.7</td>\n",
       "      <td>29.6</td>\n",
       "      <td>34.4</td>\n",
       "      <td>38.8</td>\n",
       "      <td>156419</td>\n",
       "      <td>53.0</td>\n",
       "    </tr>\n",
       "    <tr>\n",
       "      <th>1394</th>\n",
       "      <td>13950</td>\n",
       "      <td>17.8</td>\n",
       "      <td>12.9</td>\n",
       "      <td>25.3</td>\n",
       "      <td>37.4</td>\n",
       "      <td>33.0</td>\n",
       "      <td>68216</td>\n",
       "      <td>59.0</td>\n",
       "    </tr>\n",
       "    <tr>\n",
       "      <th>1395</th>\n",
       "      <td>13960</td>\n",
       "      <td>17.0</td>\n",
       "      <td>12.3</td>\n",
       "      <td>28.5</td>\n",
       "      <td>43.8</td>\n",
       "      <td>18.7</td>\n",
       "      <td>9980</td>\n",
       "      <td>54.0</td>\n",
       "    </tr>\n",
       "    <tr>\n",
       "      <th>1396</th>\n",
       "      <td>13970</td>\n",
       "      <td>16.7</td>\n",
       "      <td>14.2</td>\n",
       "      <td>32.3</td>\n",
       "      <td>51.4</td>\n",
       "      <td>24.4</td>\n",
       "      <td>31228</td>\n",
       "      <td>52.0</td>\n",
       "    </tr>\n",
       "  </tbody>\n",
       "</table>\n",
       "<p>1397 rows × 8 columns</p>\n",
       "</div>"
      ],
      "text/plain": [
       "      rank_order  scores_teaching  scores_research  scores_citations  \\\n",
       "0             10             90.5             99.6              98.4   \n",
       "1             20             92.1             97.2              97.9   \n",
       "2             30             91.4             98.7              95.8   \n",
       "3             40             92.8             96.4              99.9   \n",
       "4             50             90.5             92.4              99.5   \n",
       "...          ...              ...              ...               ...   \n",
       "1392       13930             17.3             13.9              15.5   \n",
       "1393       13940             13.6              7.7              29.6   \n",
       "1394       13950             17.8             12.9              25.3   \n",
       "1395       13960             17.0             12.3              28.5   \n",
       "1396       13970             16.7             14.2              32.3   \n",
       "\n",
       "      scores_industry_income  scores_international_outlook  \\\n",
       "0                       65.5                          96.4   \n",
       "1                       88.0                          82.5   \n",
       "2                       59.3                          95.0   \n",
       "3                       66.2                          79.5   \n",
       "4                       86.9                          89.0   \n",
       "...                      ...                           ...   \n",
       "1392                    47.0                          28.3   \n",
       "1393                    34.4                          38.8   \n",
       "1394                    37.4                          33.0   \n",
       "1395                    43.8                          18.7   \n",
       "1396                    51.4                          24.4   \n",
       "\n",
       "      stats_number_students  stats_female_ratio  \n",
       "0                     20665                46.0  \n",
       "1                      2240                34.0  \n",
       "2                     18980                47.0  \n",
       "3                     16135                43.0  \n",
       "4                     11247                39.0  \n",
       "...                     ...                 ...  \n",
       "1392                   8356                42.0  \n",
       "1393                 156419                53.0  \n",
       "1394                  68216                59.0  \n",
       "1395                   9980                54.0  \n",
       "1396                  31228                52.0  \n",
       "\n",
       "[1397 rows x 8 columns]"
      ]
     },
     "execution_count": 46,
     "metadata": {},
     "output_type": "execute_result"
    }
   ],
   "source": [
    "use = ['rank_order', 'scores_teaching', 'scores_research', 'scores_citations', 'scores_industry_income', 'scores_international_outlook', 'stats_number_students', 'stats_female_ratio']\n",
    "data[use]"
   ]
  },
  {
   "cell_type": "code",
   "execution_count": 47,
   "id": "5460c9a6",
   "metadata": {
    "scrolled": true
   },
   "outputs": [
    {
     "name": "stdout",
     "output_type": "stream",
     "text": [
      "X:       rank_order  scores_research  scores_citations  scores_industry_income  \\\n",
      "0             10             99.6              98.4                    65.5   \n",
      "1             20             97.2              97.9                    88.0   \n",
      "2             30             98.7              95.8                    59.3   \n",
      "3             40             96.4              99.9                    66.2   \n",
      "4             50             92.4              99.5                    86.9   \n",
      "...          ...              ...               ...                     ...   \n",
      "1392       13930             13.9              15.5                    47.0   \n",
      "1393       13940              7.7              29.6                    34.4   \n",
      "1394       13950             12.9              25.3                    37.4   \n",
      "1395       13960             12.3              28.5                    43.8   \n",
      "1396       13970             14.2              32.3                    51.4   \n",
      "\n",
      "      scores_international_outlook  stats_number_students  stats_female_ratio  \n",
      "0                             96.4                  20665                46.0  \n",
      "1                             82.5                   2240                34.0  \n",
      "2                             95.0                  18980                47.0  \n",
      "3                             79.5                  16135                43.0  \n",
      "4                             89.0                  11247                39.0  \n",
      "...                            ...                    ...                 ...  \n",
      "1392                          28.3                   8356                42.0  \n",
      "1393                          38.8                 156419                53.0  \n",
      "1394                          33.0                  68216                59.0  \n",
      "1395                          18.7                   9980                54.0  \n",
      "1396                          24.4                  31228                52.0  \n",
      "\n",
      "[1397 rows x 7 columns]\n",
      "y: 0       90.5\n",
      "1       92.1\n",
      "2       91.4\n",
      "3       92.8\n",
      "4       90.5\n",
      "        ... \n",
      "1392    17.3\n",
      "1393    13.6\n",
      "1394    17.8\n",
      "1395    17.0\n",
      "1396    16.7\n",
      "Name: scores_teaching, Length: 1397, dtype: float64\n"
     ]
    }
   ],
   "source": [
    "# разделение данных на объясняющие и целевую переменную\n",
    "X = data[use].drop('scores_teaching', axis=1)\n",
    "y = data[use]['scores_teaching']\n",
    "\n",
    "print(\"X:\", X)\n",
    "print(\"y:\", y)"
   ]
  },
  {
   "cell_type": "code",
   "execution_count": 48,
   "id": "9982ee89",
   "metadata": {},
   "outputs": [
    {
     "name": "stdout",
     "output_type": "stream",
     "text": [
      "[[ 1.         -0.77002281 -0.89677776 -0.36764234 -0.65146445  0.02751782\n",
      "  -0.09581064 -0.70761424]\n",
      " [-0.77002281  1.          0.60870602  0.5091464   0.52286602  0.00985383\n",
      "  -0.02409557  0.90072258]\n",
      " [-0.89677776  0.60870602  1.          0.18738668  0.58831486 -0.03570159\n",
      "   0.16049827  0.53929769]\n",
      " [-0.36764234  0.5091464   0.18738668  1.          0.15873435  0.02537065\n",
      "  -0.2632649   0.43283299]\n",
      " [-0.65146445  0.52286602  0.58831486  0.15873435  1.         -0.0500511\n",
      "   0.22762192  0.37575252]\n",
      " [ 0.02751782  0.00985383 -0.03570159  0.02537065 -0.0500511   1.\n",
      "   0.06269441 -0.02403569]\n",
      " [-0.09581064 -0.02409557  0.16049827 -0.2632649   0.22762192  0.06269441\n",
      "   1.         -0.04669108]\n",
      " [-0.70761424  0.90072258  0.53929769  0.43283299  0.37575252 -0.02403569\n",
      "  -0.04669108  1.        ]]\n"
     ]
    }
   ],
   "source": [
    "corr_matrix = np.corrcoef(X.to_numpy().T, y.to_numpy())\n",
    "print(corr_matrix)"
   ]
  },
  {
   "cell_type": "code",
   "execution_count": 49,
   "id": "ff5d447c",
   "metadata": {},
   "outputs": [],
   "source": [
    "#Для построения модели и разделения данных на train и test выборки можно воспользоваться функцией train_test_split() из библиотеки scikit-learn.\n",
    "\n",
    "from sklearn.model_selection import train_test_split\n",
    "\n",
    "X_train, X_test, y_train, y_test = train_test_split(X, y, test_size=0.2, random_state=42)\n"
   ]
  },
  {
   "cell_type": "code",
   "execution_count": 50,
   "id": "af6f6ad9",
   "metadata": {},
   "outputs": [
    {
     "name": "stdout",
     "output_type": "stream",
     "text": [
      "Лучшее значение MSE: 32.57044121244832\n",
      "Лучшие гиперпараметры: {'fit_intercept': True, 'normalize': True}\n"
     ]
    }
   ],
   "source": [
    "from sklearn.linear_model import LinearRegression\n",
    "from sklearn.metrics import mean_squared_error\n",
    "from sklearn.model_selection import KFold, GridSearchCV\n",
    "\n",
    "# Определите модель и диапазон гиперпараметров\n",
    "model = LinearRegression()\n",
    "params = {'normalize': [True, False], 'fit_intercept': [True, False]}\n",
    "\n",
    "# Определите количество фолдов и выполните кросс-валидацию\n",
    "cv = KFold(n_splits=5, shuffle=True, random_state=42)\n",
    "grid = GridSearchCV(model, params, scoring='neg_mean_squared_error', cv=cv)\n",
    "grid.fit(X, y)\n",
    "\n",
    "# Выведите результаты\n",
    "print('Лучшее значение MSE:', -grid.best_score_)\n",
    "print('Лучшие гиперпараметры:', grid.best_params_)"
   ]
  },
  {
   "cell_type": "code",
   "execution_count": 51,
   "id": "e190871a",
   "metadata": {},
   "outputs": [
    {
     "name": "stdout",
     "output_type": "stream",
     "text": [
      "MAE: 4.480\n",
      "MSE: 33.623\n",
      "R2: 0.808\n"
     ]
    }
   ],
   "source": [
    "from sklearn.model_selection import train_test_split\n",
    "from sklearn.metrics import mean_absolute_error, mean_squared_error, r2_score\n",
    "\n",
    "# создаем модель, используя найденные оптимальные гиперпараметры\n",
    "model = LinearRegression(n_jobs=-1, fit_intercept=True)\n",
    "\n",
    "# обучаем модель на обучающих данных\n",
    "model.fit(X_train, y_train)\n",
    "\n",
    "# делаем прогнозы на тестовых данных\n",
    "y_pred = model.predict(X_test)\n",
    "\n",
    "# оцениваем качество модели с помощью метрик качества\n",
    "mae = mean_absolute_error(y_test, y_pred)\n",
    "mse = mean_squared_error(y_test, y_pred)\n",
    "r2 = r2_score(y_test, y_pred)\n",
    "\n",
    "# выводим метрики качества на экран\n",
    "print('MAE: %.3f' % mae)\n",
    "print('MSE: %.3f' % mse)\n",
    "print('R2: %.3f' % r2)"
   ]
  },
  {
   "cell_type": "markdown",
   "id": "40b5833d",
   "metadata": {},
   "source": [
    "Коэффициент детерминации (R^2) является мерой того, насколько хорошо модель соответствует данным, и может принимать значения от 0 до 1. Значение 1 означает, что модель точно соответствует данным, а значение 0 означает, что модель не объясняет никакую долю дисперсии данных. В общем случае, чем ближе коэффициент R^2 к 1, тем лучше модель. <br>В нашем случае R^2 равен примерно 0,8, что близко к единице => можно сделать вывод, что наша построенная модель оказалась адекватной. <br>MAE = 4.480, что означает, что в среднем разница между прогнозируемыми и фактическими значениями составляет около 4.48 единиц. <br>MSE = 33.623, что означает, что в среднем разница между прогнозируемыми и фактическими значениями в квадрате составляет 33.62 единицы. "
   ]
  },
  {
   "cell_type": "code",
   "execution_count": 52,
   "id": "695f1a2e",
   "metadata": {},
   "outputs": [
    {
     "name": "stdout",
     "output_type": "stream",
     "text": [
      "Прогноз: 31.631, фактическое значение: 90.500\n",
      "Прогноз: 16.647, фактическое значение: 92.100\n",
      "Прогноз: 24.953, фактическое значение: 91.400\n",
      "Прогноз: 16.937, фактическое значение: 92.800\n",
      "Прогноз: 27.530, фактическое значение: 90.500\n",
      "Прогноз: 35.924, фактическое значение: 90.300\n",
      "Прогноз: 31.206, фактическое значение: 89.200\n",
      "Прогноз: 18.702, фактическое значение: 92.000\n",
      "Прогноз: 17.632, фактическое значение: 89.100\n",
      "Прогноз: 14.022, фактическое значение: 84.500\n",
      "Прогноз: 55.604, фактическое значение: 87.500\n",
      "Прогноз: 19.133, фактическое значение: 81.700\n",
      "Прогноз: 17.780, фактическое значение: 83.000\n",
      "Прогноз: 34.469, фактическое значение: 81.800\n",
      "Прогноз: 17.190, фактическое значение: 77.800\n",
      "Прогноз: 27.795, фактическое значение: 85.600\n",
      "Прогноз: 23.629, фактическое значение: 83.100\n",
      "Прогноз: 47.785, фактическое значение: 76.600\n",
      "Прогноз: 35.493, фактическое значение: 79.700\n",
      "Прогноз: 27.733, фактическое значение: 82.400\n",
      "Прогноз: 31.308, фактическое значение: 79.400\n",
      "Прогноз: 17.943, фактическое значение: 74.200\n",
      "Прогноз: 33.034, фактическое значение: 86.600\n",
      "Прогноз: 63.226, фактическое значение: 89.100\n",
      "Прогноз: 29.796, фактическое значение: 76.800\n",
      "Прогноз: 20.056, фактическое значение: 72.200\n",
      "Прогноз: 27.889, фактическое значение: 65.900\n",
      "Прогноз: 55.148, фактическое значение: 69.000\n",
      "Прогноз: 21.056, фактическое значение: 76.800\n",
      "Прогноз: 23.613, фактическое значение: 67.300\n",
      "Прогноз: 20.223, фактическое значение: 62.600\n",
      "Прогноз: 21.361, фактическое значение: 68.400\n",
      "Прогноз: 60.042, фактическое значение: 65.900\n",
      "Прогноз: 35.243, фактическое значение: 61.500\n",
      "Прогноз: 24.166, фактическое значение: 69.500\n",
      "Прогноз: 29.731, фактическое значение: 61.300\n",
      "Прогноз: 29.543, фактическое значение: 85.900\n",
      "Прогноз: 17.323, фактическое значение: 66.600\n",
      "Прогноз: 30.380, фактическое значение: 60.200\n",
      "Прогноз: 31.486, фактическое значение: 68.200\n",
      "Прогноз: 44.647, фактическое значение: 55.400\n",
      "Прогноз: 39.777, фактическое значение: 65.000\n",
      "Прогноз: 14.183, фактическое значение: 64.600\n",
      "Прогноз: 32.389, фактическое значение: 67.100\n",
      "Прогноз: 35.401, фактическое значение: 58.700\n",
      "Прогноз: 18.960, фактическое значение: 71.600\n",
      "Прогноз: 16.226, фактическое значение: 57.400\n",
      "Прогноз: 32.612, фактическое значение: 63.200\n",
      "Прогноз: 16.247, фактическое значение: 57.600\n",
      "Прогноз: 16.290, фактическое значение: 54.400\n",
      "Прогноз: 35.007, фактическое значение: 68.800\n",
      "Прогноз: 20.413, фактическое значение: 64.200\n",
      "Прогноз: 29.744, фактическое значение: 64.000\n",
      "Прогноз: 56.477, фактическое значение: 59.700\n",
      "Прогноз: 28.066, фактическое значение: 62.400\n",
      "Прогноз: 22.823, фактическое значение: 56.900\n",
      "Прогноз: 18.229, фактическое значение: 47.900\n",
      "Прогноз: 37.287, фактическое значение: 55.800\n",
      "Прогноз: 34.512, фактическое значение: 49.300\n",
      "Прогноз: 42.981, фактическое значение: 51.000\n",
      "Прогноз: 16.071, фактическое значение: 57.300\n",
      "Прогноз: 18.037, фактическое значение: 48.000\n",
      "Прогноз: 24.085, фактическое значение: 54.700\n",
      "Прогноз: 25.517, фактическое значение: 72.300\n",
      "Прогноз: 30.996, фактическое значение: 73.700\n",
      "Прогноз: 31.044, фактическое значение: 49.300\n",
      "Прогноз: 31.414, фактическое значение: 55.300\n",
      "Прогноз: 18.015, фактическое значение: 48.300\n",
      "Прогноз: 18.448, фактическое значение: 39.400\n",
      "Прогноз: 9.958, фактическое значение: 57.500\n",
      "Прогноз: 55.169, фактическое значение: 50.200\n",
      "Прогноз: 21.025, фактическое значение: 44.500\n",
      "Прогноз: 46.271, фактическое значение: 42.300\n",
      "Прогноз: 26.176, фактическое значение: 61.800\n",
      "Прогноз: 24.822, фактическое значение: 47.300\n",
      "Прогноз: 18.741, фактическое значение: 44.100\n",
      "Прогноз: 30.535, фактическое значение: 46.900\n",
      "Прогноз: 35.159, фактическое значение: 55.200\n",
      "Прогноз: 22.598, фактическое значение: 55.200\n",
      "Прогноз: 19.224, фактическое значение: 47.600\n",
      "Прогноз: 21.514, фактическое значение: 56.000\n",
      "Прогноз: 31.352, фактическое значение: 64.600\n",
      "Прогноз: 29.487, фактическое значение: 62.300\n",
      "Прогноз: 49.485, фактическое значение: 56.600\n",
      "Прогноз: 18.002, фактическое значение: 48.200\n",
      "Прогноз: 16.697, фактическое значение: 49.100\n",
      "Прогноз: 31.680, фактическое значение: 41.800\n",
      "Прогноз: 20.468, фактическое значение: 57.500\n",
      "Прогноз: 2.987, фактическое значение: 57.600\n",
      "Прогноз: 20.335, фактическое значение: 47.000\n",
      "Прогноз: 40.267, фактическое значение: 46.900\n",
      "Прогноз: 60.860, фактическое значение: 51.200\n",
      "Прогноз: 31.205, фактическое значение: 59.600\n",
      "Прогноз: 44.437, фактическое значение: 43.000\n",
      "Прогноз: 27.547, фактическое значение: 58.400\n",
      "Прогноз: 37.746, фактическое значение: 43.300\n",
      "Прогноз: 17.389, фактическое значение: 43.400\n",
      "Прогноз: 17.761, фактическое значение: 40.700\n",
      "Прогноз: 21.539, фактическое значение: 41.100\n",
      "Прогноз: 16.317, фактическое значение: 55.600\n",
      "Прогноз: 16.729, фактическое значение: 48.100\n",
      "Прогноз: 21.353, фактическое значение: 57.300\n",
      "Прогноз: 17.670, фактическое значение: 41.600\n",
      "Прогноз: 33.743, фактическое значение: 52.600\n",
      "Прогноз: 33.422, фактическое значение: 47.600\n",
      "Прогноз: 18.616, фактическое значение: 49.100\n",
      "Прогноз: 19.072, фактическое значение: 54.400\n",
      "Прогноз: 33.827, фактическое значение: 66.000\n",
      "Прогноз: 20.073, фактическое значение: 61.900\n",
      "Прогноз: 28.954, фактическое значение: 62.600\n",
      "Прогноз: 29.307, фактическое значение: 35.300\n",
      "Прогноз: 44.314, фактическое значение: 39.600\n",
      "Прогноз: 20.095, фактическое значение: 44.500\n",
      "Прогноз: 18.177, фактическое значение: 47.400\n",
      "Прогноз: 32.346, фактическое значение: 37.200\n",
      "Прогноз: 66.483, фактическое значение: 48.700\n",
      "Прогноз: 31.948, фактическое значение: 57.200\n",
      "Прогноз: 32.585, фактическое значение: 45.200\n",
      "Прогноз: 19.982, фактическое значение: 48.400\n",
      "Прогноз: 20.819, фактическое значение: 34.300\n",
      "Прогноз: 22.504, фактическое значение: 57.000\n",
      "Прогноз: 19.950, фактическое значение: 40.200\n",
      "Прогноз: 61.825, фактическое значение: 43.300\n",
      "Прогноз: 28.152, фактическое значение: 44.800\n",
      "Прогноз: 50.756, фактическое значение: 49.600\n",
      "Прогноз: 19.588, фактическое значение: 41.000\n",
      "Прогноз: 23.718, фактическое значение: 40.200\n",
      "Прогноз: 43.318, фактическое значение: 36.000\n",
      "Прогноз: 13.788, фактическое значение: 40.300\n",
      "Прогноз: 49.180, фактическое значение: 52.000\n",
      "Прогноз: 66.541, фактическое значение: 39.600\n",
      "Прогноз: 17.114, фактическое значение: 32.500\n",
      "Прогноз: 19.737, фактическое значение: 45.500\n",
      "Прогноз: 12.970, фактическое значение: 50.800\n",
      "Прогноз: 38.977, фактическое значение: 48.100\n",
      "Прогноз: 20.197, фактическое значение: 47.900\n",
      "Прогноз: 17.177, фактическое значение: 33.200\n",
      "Прогноз: 42.188, фактическое значение: 35.700\n",
      "Прогноз: 23.338, фактическое значение: 34.700\n",
      "Прогноз: 25.458, фактическое значение: 49.100\n",
      "Прогноз: 15.298, фактическое значение: 41.300\n",
      "Прогноз: 17.958, фактическое значение: 40.600\n",
      "Прогноз: 16.537, фактическое значение: 37.700\n",
      "Прогноз: 20.037, фактическое значение: 38.100\n",
      "Прогноз: 21.130, фактическое значение: 50.700\n",
      "Прогноз: 41.439, фактическое значение: 33.900\n",
      "Прогноз: 32.928, фактическое значение: 51.700\n",
      "Прогноз: 19.307, фактическое значение: 35.300\n",
      "Прогноз: 30.700, фактическое значение: 44.400\n",
      "Прогноз: 35.835, фактическое значение: 45.000\n",
      "Прогноз: 16.207, фактическое значение: 50.400\n",
      "Прогноз: 32.875, фактическое значение: 38.800\n",
      "Прогноз: 16.814, фактическое значение: 42.700\n",
      "Прогноз: 20.723, фактическое значение: 57.200\n",
      "Прогноз: 22.197, фактическое значение: 39.300\n",
      "Прогноз: 16.170, фактическое значение: 41.100\n",
      "Прогноз: 14.409, фактическое значение: 40.900\n",
      "Прогноз: 27.552, фактическое значение: 43.600\n",
      "Прогноз: 28.343, фактическое значение: 41.900\n",
      "Прогноз: 22.491, фактическое значение: 52.900\n",
      "Прогноз: 15.272, фактическое значение: 58.000\n",
      "Прогноз: 37.406, фактическое значение: 46.500\n",
      "Прогноз: 38.391, фактическое значение: 38.700\n",
      "Прогноз: 29.672, фактическое значение: 41.700\n",
      "Прогноз: 48.190, фактическое значение: 35.200\n",
      "Прогноз: 26.231, фактическое значение: 36.100\n",
      "Прогноз: 43.399, фактическое значение: 30.100\n",
      "Прогноз: 21.424, фактическое значение: 30.400\n",
      "Прогноз: 76.953, фактическое значение: 51.500\n",
      "Прогноз: 58.549, фактическое значение: 47.800\n",
      "Прогноз: 31.130, фактическое значение: 41.000\n",
      "Прогноз: 23.418, фактическое значение: 39.200\n",
      "Прогноз: 29.610, фактическое значение: 38.000\n",
      "Прогноз: 16.843, фактическое значение: 43.400\n",
      "Прогноз: 25.910, фактическое значение: 54.000\n",
      "Прогноз: 24.046, фактическое значение: 45.400\n",
      "Прогноз: 16.809, фактическое значение: 30.000\n",
      "Прогноз: 35.874, фактическое значение: 49.300\n",
      "Прогноз: 20.603, фактическое значение: 31.400\n",
      "Прогноз: 27.401, фактическое значение: 33.100\n",
      "Прогноз: 25.163, фактическое значение: 48.400\n",
      "Прогноз: 18.427, фактическое значение: 31.900\n",
      "Прогноз: 31.886, фактическое значение: 41.100\n",
      "Прогноз: 20.699, фактическое значение: 41.800\n",
      "Прогноз: 21.008, фактическое значение: 39.400\n",
      "Прогноз: 43.208, фактическое значение: 44.600\n",
      "Прогноз: 24.037, фактическое значение: 27.500\n",
      "Прогноз: 58.123, фактическое значение: 42.600\n",
      "Прогноз: 15.501, фактическое значение: 78.200\n",
      "Прогноз: 17.342, фактическое значение: 41.000\n",
      "Прогноз: 18.620, фактическое значение: 41.300\n",
      "Прогноз: 16.232, фактическое значение: 28.300\n",
      "Прогноз: 11.734, фактическое значение: 25.200\n",
      "Прогноз: 42.498, фактическое значение: 34.400\n",
      "Прогноз: 13.482, фактическое значение: 33.500\n",
      "Прогноз: 18.443, фактическое значение: 31.200\n",
      "Прогноз: 14.506, фактическое значение: 51.200\n",
      "Прогноз: 34.800, фактическое значение: 35.600\n",
      "Прогноз: 24.617, фактическое значение: 32.500\n",
      "Прогноз: 23.510, фактическое значение: 48.600\n",
      "Прогноз: 28.200, фактическое значение: 33.100\n",
      "Прогноз: 44.331, фактическое значение: 42.200\n",
      "Прогноз: 17.575, фактическое значение: 28.500\n",
      "Прогноз: 30.444, фактическое значение: 37.300\n",
      "Прогноз: 37.847, фактическое значение: 29.500\n",
      "Прогноз: 21.834, фактическое значение: 28.500\n",
      "Прогноз: 20.871, фактическое значение: 33.900\n",
      "Прогноз: 16.884, фактическое значение: 25.300\n",
      "Прогноз: 30.833, фактическое значение: 24.800\n",
      "Прогноз: 17.286, фактическое значение: 45.200\n",
      "Прогноз: 27.415, фактическое значение: 25.500\n",
      "Прогноз: 29.988, фактическое значение: 36.300\n",
      "Прогноз: 17.483, фактическое значение: 48.200\n",
      "Прогноз: 22.157, фактическое значение: 34.400\n",
      "Прогноз: 28.053, фактическое значение: 42.800\n",
      "Прогноз: 38.433, фактическое значение: 43.100\n",
      "Прогноз: 23.002, фактическое значение: 23.300\n",
      "Прогноз: 21.157, фактическое значение: 29.500\n",
      "Прогноз: 18.010, фактическое значение: 38.800\n",
      "Прогноз: 33.733, фактическое значение: 40.500\n",
      "Прогноз: 18.325, фактическое значение: 30.200\n",
      "Прогноз: 28.546, фактическое значение: 37.900\n",
      "Прогноз: 32.135, фактическое значение: 37.800\n",
      "Прогноз: 18.040, фактическое значение: 38.500\n",
      "Прогноз: 19.138, фактическое значение: 30.900\n",
      "Прогноз: 39.199, фактическое значение: 33.400\n",
      "Прогноз: 26.727, фактическое значение: 44.000\n",
      "Прогноз: 55.284, фактическое значение: 53.300\n",
      "Прогноз: 20.463, фактическое значение: 31.500\n",
      "Прогноз: 22.100, фактическое значение: 30.200\n",
      "Прогноз: 24.410, фактическое значение: 42.500\n",
      "Прогноз: 21.107, фактическое значение: 33.700\n",
      "Прогноз: 31.377, фактическое значение: 31.200\n",
      "Прогноз: 39.515, фактическое значение: 30.100\n",
      "Прогноз: 19.793, фактическое значение: 32.100\n",
      "Прогноз: 34.700, фактическое значение: 24.000\n",
      "Прогноз: 44.932, фактическое значение: 30.500\n",
      "Прогноз: 25.021, фактическое значение: 36.800\n",
      "Прогноз: 46.858, фактическое значение: 35.200\n",
      "Прогноз: 16.771, фактическое значение: 27.800\n",
      "Прогноз: 28.831, фактическое значение: 30.800\n",
      "Прогноз: 30.582, фактическое значение: 39.000\n",
      "Прогноз: 32.065, фактическое значение: 37.500\n",
      "Прогноз: 20.135, фактическое значение: 38.700\n",
      "Прогноз: 28.016, фактическое значение: 37.400\n",
      "Прогноз: 17.886, фактическое значение: 42.800\n",
      "Прогноз: 26.052, фактическое значение: 35.000\n",
      "Прогноз: 32.530, фактическое значение: 40.200\n",
      "Прогноз: 35.130, фактическое значение: 47.500\n",
      "Прогноз: 19.691, фактическое значение: 29.900\n",
      "Прогноз: 44.456, фактическое значение: 19.600\n",
      "Прогноз: 27.391, фактическое значение: 19.700\n",
      "Прогноз: 23.788, фактическое значение: 40.100\n",
      "Прогноз: 28.846, фактическое значение: 28.600\n",
      "Прогноз: 19.086, фактическое значение: 15.900\n",
      "Прогноз: 34.952, фактическое значение: 37.200\n",
      "Прогноз: 47.753, фактическое значение: 31.200\n",
      "Прогноз: 19.148, фактическое значение: 36.100\n",
      "Прогноз: 26.681, фактическое значение: 35.500\n",
      "Прогноз: 53.751, фактическое значение: 23.400\n",
      "Прогноз: 24.720, фактическое значение: 27.700\n",
      "Прогноз: 32.955, фактическое значение: 28.500\n",
      "Прогноз: 21.304, фактическое значение: 39.900\n",
      "Прогноз: 15.602, фактическое значение: 31.600\n",
      "Прогноз: 24.564, фактическое значение: 22.500\n",
      "Прогноз: 16.303, фактическое значение: 38.000\n",
      "Прогноз: 64.516, фактическое значение: 29.900\n",
      "Прогноз: 33.071, фактическое значение: 28.400\n",
      "Прогноз: 23.131, фактическое значение: 35.900\n",
      "Прогноз: 35.340, фактическое значение: 45.000\n",
      "Прогноз: 25.640, фактическое значение: 30.600\n",
      "Прогноз: 26.242, фактическое значение: 27.100\n",
      "Прогноз: 19.400, фактическое значение: 40.100\n",
      "Прогноз: 58.803, фактическое значение: 27.100\n",
      "Прогноз: 9.596, фактическое значение: 30.500\n",
      "Прогноз: 19.160, фактическое значение: 27.100\n",
      "Прогноз: 22.973, фактическое значение: 30.400\n",
      "Прогноз: 33.360, фактическое значение: 34.000\n",
      "Прогноз: 19.620, фактическое значение: 35.700\n",
      "Прогноз: 58.691, фактическое значение: 30.300\n"
     ]
    }
   ],
   "source": [
    "# вывести прогнозы и соответствующие значения целевой переменной\n",
    "for i in range(len(y_pred)):\n",
    "    print(\"Прогноз: %.3f, фактическое значение: %.3f\" % (y_pred[i], y[i]))"
   ]
  },
  {
   "cell_type": "markdown",
   "id": "861aad23",
   "metadata": {},
   "source": [
    "Прогноз получился в разы меньше фактических значений, это может быть вызваны следующим:\n",
    "- Наличие выбросов, в начале я решила не избавляться от выбросов, так как подумала, что они будут важны.\n",
    "- Наличие шумов в данных или несбалансированных классов. Эти моменты я тоже, к сожалению, упустила, а они как раз могут привести к менее точным результатам."
   ]
  },
  {
   "cell_type": "markdown",
   "id": "9083c9ac",
   "metadata": {},
   "source": [
    "Запрос в чат был такой:\n",
    "Машинное обучение\n",
    "\n",
    "Имеется следующая таблица со столбцами: useful_cols = ['rank_order', 'rank', 'name', 'scores_overall', 'scores_teaching', 'scores_research', 'scores_citations', 'scores_industry_income', 'scores_international_outlook', 'location', 'stats_number_students', 'stats_female_ratio']\n",
    "\n",
    "Попробуем предсказать оценку преподавания. 'scores_teaching' будет целевой переменной, остальные - объясняющими. В дальнейшем нужно будет изучить связь объясняемой переменной с объясняющими, найти корреляцию. В дальнейшем для обучения модели разобъём выборку на обучающую и тестовую.\n",
    "\n",
    "После этого было ещё много вспомогательных вопросов, например:\n",
    "\n",
    "- Как теперь обучить модель на обучающей выборке и проверить ее качество на тестовой выборке с помощью машинного обучения?\n",
    "- Как теперь подобрать гипермараметры с помощью кросс-валидации?\n",
    "- Что означает такая строка в выводе: Лучшие гиперпараметры: {'fit_intercept': True, 'normalize': True}\n",
    "- Что теперь делать с машинным обучением после подбора гипермараметров?"
   ]
  },
  {
   "cell_type": "markdown",
   "id": "bfd9084e",
   "metadata": {},
   "source": [
    "Оставалось свободное время, решила попробовать проделать всё то же самое для прогнозирования 'scores_research', посмотрю, насколько плохо там будет."
   ]
  },
  {
   "cell_type": "code",
   "execution_count": 53,
   "id": "3eb006f7",
   "metadata": {},
   "outputs": [],
   "source": [
    "use1 = ['rank_order', 'scores_research', 'scores_citations', 'scores_industry_income', 'scores_international_outlook', 'stats_number_students', 'stats_female_ratio']"
   ]
  },
  {
   "cell_type": "code",
   "execution_count": 54,
   "id": "7389df9b",
   "metadata": {},
   "outputs": [],
   "source": [
    "# разделение данных на объясняющие и целевую переменную\n",
    "X = data[use1].drop('scores_research', axis=1)\n",
    "y = data[use1]['scores_research']"
   ]
  },
  {
   "cell_type": "code",
   "execution_count": 55,
   "id": "df5b6b1a",
   "metadata": {},
   "outputs": [
    {
     "name": "stdout",
     "output_type": "stream",
     "text": [
      "[[ 1.         -0.89677776 -0.36764234 -0.65146445  0.02751782 -0.09581064\n",
      "  -0.77002281]\n",
      " [-0.89677776  1.          0.18738668  0.58831486 -0.03570159  0.16049827\n",
      "   0.60870602]\n",
      " [-0.36764234  0.18738668  1.          0.15873435  0.02537065 -0.2632649\n",
      "   0.5091464 ]\n",
      " [-0.65146445  0.58831486  0.15873435  1.         -0.0500511   0.22762192\n",
      "   0.52286602]\n",
      " [ 0.02751782 -0.03570159  0.02537065 -0.0500511   1.          0.06269441\n",
      "   0.00985383]\n",
      " [-0.09581064  0.16049827 -0.2632649   0.22762192  0.06269441  1.\n",
      "  -0.02409557]\n",
      " [-0.77002281  0.60870602  0.5091464   0.52286602  0.00985383 -0.02409557\n",
      "   1.        ]]\n"
     ]
    }
   ],
   "source": [
    "corr_matrix = np.corrcoef(X.to_numpy().T, y.to_numpy())\n",
    "print(corr_matrix)"
   ]
  },
  {
   "cell_type": "code",
   "execution_count": 56,
   "id": "f6d8fbfb",
   "metadata": {},
   "outputs": [],
   "source": [
    "#Для построения модели и разделения данных на train и test выборки можно воспользоваться функцией train_test_split() из библиотеки scikit-learn.\n",
    "from sklearn.linear_model import LinearRegression\n",
    "from sklearn.metrics import mean_squared_error\n",
    "from sklearn.model_selection import train_test_split\n",
    "\n",
    "X_train, X_test, y_train, y_test = train_test_split(X, y, test_size=0.2, random_state=42)\n"
   ]
  },
  {
   "cell_type": "code",
   "execution_count": 57,
   "id": "7474367e",
   "metadata": {},
   "outputs": [
    {
     "name": "stdout",
     "output_type": "stream",
     "text": [
      "Лучшее значение MSE: 104.82714491264792\n",
      "Лучшие гиперпараметры: {'fit_intercept': True, 'normalize': False}\n"
     ]
    }
   ],
   "source": [
    "from sklearn.model_selection import KFold, GridSearchCV\n",
    "\n",
    "# Определите модель и диапазон гиперпараметров\n",
    "model = LinearRegression()\n",
    "params = {'normalize': [True, False], 'fit_intercept': [True, False]}\n",
    "\n",
    "# Определите количество фолдов и выполните кросс-валидацию\n",
    "cv = KFold(n_splits=5, shuffle=True, random_state=42)\n",
    "grid = GridSearchCV(model, params, scoring='neg_mean_squared_error', cv=cv)\n",
    "grid.fit(X, y)\n",
    "\n",
    "# Выведите результаты\n",
    "print('Лучшее значение MSE:', -grid.best_score_)\n",
    "print('Лучшие гиперпараметры:', grid.best_params_)"
   ]
  },
  {
   "cell_type": "code",
   "execution_count": 58,
   "id": "418e6cef",
   "metadata": {},
   "outputs": [
    {
     "name": "stdout",
     "output_type": "stream",
     "text": [
      "MAE: 6.594\n",
      "MSE: 75.356\n",
      "R2: 0.716\n"
     ]
    }
   ],
   "source": [
    "from sklearn.model_selection import train_test_split\n",
    "from sklearn.linear_model import LinearRegression\n",
    "from sklearn.metrics import mean_absolute_error, mean_squared_error, r2_score\n",
    "\n",
    "\n",
    "# создаем модель, используя найденные оптимальные гиперпараметры\n",
    "model = LinearRegression(n_jobs=-1, fit_intercept=True)\n",
    "\n",
    "# обучаем модель на обучающих данных\n",
    "model.fit(X_train, y_train)\n",
    "\n",
    "# делаем прогнозы на тестовых данных\n",
    "y_pred = model.predict(X_test)\n",
    "\n",
    "# оцениваем качество модели с помощью метрик качества\n",
    "mae = mean_absolute_error(y_test, y_pred)\n",
    "mse = mean_squared_error(y_test, y_pred)\n",
    "r2 = r2_score(y_test, y_pred)\n",
    "\n",
    "# выводим метрики качества на экран\n",
    "print('MAE: %.3f' % mae)\n",
    "print('MSE: %.3f' % mse)\n",
    "print('R2: %.3f' % r2)\n"
   ]
  },
  {
   "cell_type": "code",
   "execution_count": 59,
   "id": "0aa2bb0f",
   "metadata": {},
   "outputs": [
    {
     "name": "stdout",
     "output_type": "stream",
     "text": [
      "Прогноз: 28.624, фактическое значение: 99.600\n",
      "Прогноз: 4.550, фактическое значение: 97.200\n",
      "Прогноз: 12.406, фактическое значение: 98.700\n",
      "Прогноз: 14.430, фактическое значение: 96.400\n",
      "Прогноз: 26.472, фактическое значение: 92.400\n",
      "Прогноз: 35.456, фактическое значение: 96.300\n",
      "Прогноз: 26.108, фактическое значение: 98.600\n",
      "Прогноз: 1.109, фактическое значение: 94.800\n",
      "Прогноз: 2.896, фактическое значение: 91.400\n",
      "Прогноз: 12.137, фактическое значение: 87.600\n",
      "Прогноз: 50.615, фактическое значение: 90.400\n",
      "Прогноз: 10.248, фактическое значение: 91.400\n",
      "Прогноз: -3.278, фактическое значение: 90.600\n",
      "Прогноз: 33.364, фактическое значение: 92.800\n",
      "Прогноз: 9.463, фактическое значение: 88.700\n",
      "Прогноз: 31.113, фактическое значение: 82.600\n",
      "Прогноз: 22.265, фактическое значение: 88.600\n",
      "Прогноз: 43.373, фактическое значение: 89.500\n",
      "Прогноз: 35.889, фактическое значение: 86.000\n",
      "Прогноз: 14.379, фактическое значение: 76.800\n",
      "Прогноз: 35.013, фактическое значение: 86.100\n",
      "Прогноз: 17.013, фактическое значение: 83.800\n",
      "Прогноз: 18.741, фактическое значение: 94.000\n",
      "Прогноз: 42.938, фактическое значение: 90.000\n",
      "Прогноз: 30.857, фактическое значение: 90.400\n",
      "Прогноз: 24.259, фактическое значение: 82.200\n",
      "Прогноз: 23.319, фактическое значение: 82.700\n",
      "Прогноз: 40.052, фактическое значение: 83.000\n",
      "Прогноз: 21.561, фактическое значение: 77.500\n",
      "Прогноз: 15.724, фактическое значение: 74.100\n",
      "Прогноз: -0.811, фактическое значение: 78.900\n",
      "Прогноз: 15.224, фактическое значение: 77.000\n",
      "Прогноз: 44.982, фактическое значение: 74.100\n",
      "Прогноз: 37.038, фактическое значение: 73.200\n",
      "Прогноз: 18.009, фактическое значение: 77.200\n",
      "Прогноз: 37.824, фактическое значение: 68.500\n",
      "Прогноз: 29.067, фактическое значение: 89.600\n",
      "Прогноз: 0.485, фактическое значение: 66.300\n",
      "Прогноз: 27.383, фактическое значение: 76.400\n",
      "Прогноз: 32.652, фактическое значение: 76.200\n",
      "Прогноз: 38.623, фактическое значение: 71.400\n",
      "Прогноз: 39.651, фактическое значение: 71.900\n",
      "Прогноз: 1.338, фактическое значение: 70.400\n",
      "Прогноз: 39.020, фактическое значение: 60.300\n",
      "Прогноз: 39.424, фактическое значение: 73.900\n",
      "Прогноз: 11.493, фактическое значение: 71.400\n",
      "Прогноз: -0.261, фактическое значение: 66.100\n",
      "Прогноз: 31.159, фактическое значение: 78.000\n",
      "Прогноз: 21.185, фактическое значение: 70.400\n",
      "Прогноз: 21.299, фактическое значение: 69.700\n",
      "Прогноз: 34.747, фактическое значение: 70.300\n",
      "Прогноз: 10.402, фактическое значение: 57.500\n",
      "Прогноз: 20.421, фактическое значение: 56.100\n",
      "Прогноз: 49.851, фактическое значение: 63.200\n",
      "Прогноз: 18.701, фактическое значение: 66.900\n",
      "Прогноз: 12.935, фактическое значение: 63.800\n",
      "Прогноз: 19.387, фактическое значение: 63.600\n",
      "Прогноз: 48.069, фактическое значение: 62.800\n",
      "Прогноз: 30.195, фактическое значение: 57.100\n",
      "Прогноз: 45.232, фактическое значение: 61.500\n",
      "Прогноз: 17.818, фактическое значение: 55.600\n",
      "Прогноз: 17.315, фактическое значение: 63.400\n",
      "Прогноз: 19.036, фактическое значение: 59.300\n",
      "Прогноз: 9.981, фактическое значение: 71.600\n",
      "Прогноз: 25.966, фактическое значение: 78.100\n",
      "Прогноз: 36.824, фактическое значение: 58.700\n",
      "Прогноз: 35.404, фактическое значение: 72.300\n",
      "Прогноз: 0.691, фактическое значение: 65.000\n",
      "Прогноз: 1.312, фактическое значение: 57.300\n",
      "Прогноз: 63.844, фактическое значение: 56.100\n",
      "Прогноз: 44.366, фактическое значение: 58.200\n",
      "Прогноз: 20.160, фактическое значение: 50.100\n",
      "Прогноз: 42.579, фактическое значение: 55.600\n",
      "Прогноз: 13.204, фактическое значение: 66.800\n",
      "Прогноз: 17.104, фактическое значение: 56.600\n",
      "Прогноз: 10.806, фактическое значение: 61.200\n",
      "Прогноз: 34.738, фактическое значение: 52.700\n",
      "Прогноз: 40.497, фактическое значение: 67.100\n",
      "Прогноз: 12.003, фактическое значение: 59.300\n",
      "Прогноз: 9.114, фактическое значение: 47.300\n",
      "Прогноз: 22.393, фактическое значение: 40.400\n",
      "Прогноз: 30.496, фактическое значение: 59.500\n",
      "Прогноз: 32.281, фактическое значение: 50.600\n",
      "Прогноз: 52.408, фактическое значение: 57.400\n",
      "Прогноз: 12.451, фактическое значение: 49.700\n",
      "Прогноз: 1.609, фактическое значение: 51.600\n",
      "Прогноз: 35.949, фактическое значение: 48.400\n",
      "Прогноз: -1.054, фактическое значение: 66.400\n",
      "Прогноз: 16.681, фактическое значение: 61.200\n",
      "Прогноз: 13.654, фактическое значение: 46.700\n",
      "Прогноз: 42.905, фактическое значение: 59.100\n",
      "Прогноз: 52.617, фактическое значение: 56.200\n",
      "Прогноз: 35.290, фактическое значение: 49.100\n",
      "Прогноз: 43.219, фактическое значение: 41.200\n",
      "Прогноз: 27.338, фактическое значение: 39.900\n",
      "Прогноз: 40.571, фактическое значение: 46.500\n",
      "Прогноз: 20.362, фактическое значение: 59.300\n",
      "Прогноз: 12.788, фактическое значение: 54.300\n",
      "Прогноз: 21.751, фактическое значение: 47.900\n",
      "Прогноз: 21.652, фактическое значение: 61.500\n",
      "Прогноз: 1.775, фактическое значение: 44.100\n",
      "Прогноз: 25.402, фактическое значение: 37.900\n",
      "Прогноз: 6.636, фактическое значение: 56.400\n",
      "Прогноз: 30.580, фактическое значение: 53.700\n",
      "Прогноз: 26.309, фактическое значение: 47.000\n",
      "Прогноз: 4.350, фактическое значение: 39.700\n",
      "Прогноз: 6.252, фактическое значение: 43.500\n",
      "Прогноз: 32.560, фактическое значение: 64.700\n",
      "Прогноз: 8.514, фактическое значение: 58.600\n",
      "Прогноз: 23.914, фактическое значение: 66.400\n",
      "Прогноз: 14.787, фактическое значение: 43.100\n",
      "Прогноз: 40.179, фактическое значение: 45.600\n",
      "Прогноз: 4.054, фактическое значение: 41.200\n",
      "Прогноз: 0.293, фактическое значение: 45.500\n",
      "Прогноз: 32.516, фактическое значение: 54.000\n",
      "Прогноз: 53.655, фактическое значение: 42.100\n",
      "Прогноз: 36.835, фактическое значение: 63.300\n",
      "Прогноз: 28.481, фактическое значение: 46.400\n",
      "Прогноз: 4.057, фактическое значение: 39.900\n",
      "Прогноз: 7.230, фактическое значение: 41.600\n",
      "Прогноз: 8.318, фактическое значение: 62.700\n",
      "Прогноз: 12.087, фактическое значение: 44.300\n",
      "Прогноз: 56.834, фактическое значение: 55.500\n",
      "Прогноз: 27.157, фактическое значение: 45.600\n",
      "Прогноз: 48.848, фактическое значение: 48.600\n",
      "Прогноз: 3.940, фактическое значение: 48.900\n",
      "Прогноз: 25.761, фактическое значение: 48.300\n",
      "Прогноз: 41.220, фактическое значение: 49.900\n",
      "Прогноз: 8.339, фактическое значение: 46.600\n",
      "Прогноз: 54.151, фактическое значение: 36.100\n",
      "Прогноз: 52.915, фактическое значение: 43.800\n",
      "Прогноз: 12.468, фактическое значение: 43.900\n",
      "Прогноз: 10.526, фактическое значение: 47.800\n",
      "Прогноз: 1.307, фактическое значение: 49.700\n",
      "Прогноз: 31.517, фактическое значение: 55.300\n",
      "Прогноз: 13.430, фактическое значение: 48.800\n",
      "Прогноз: 24.241, фактическое значение: 42.800\n",
      "Прогноз: 42.662, фактическое значение: 48.100\n",
      "Прогноз: 19.326, фактическое значение: 39.400\n",
      "Прогноз: 24.279, фактическое значение: 34.200\n",
      "Прогноз: 25.302, фактическое значение: 42.000\n",
      "Прогноз: 19.748, фактическое значение: 36.600\n",
      "Прогноз: 1.290, фактическое значение: 40.100\n",
      "Прогноз: 9.801, фактическое значение: 43.700\n",
      "Прогноз: 20.053, фактическое значение: 48.000\n",
      "Прогноз: 40.985, фактическое значение: 38.900\n",
      "Прогноз: 28.982, фактическое значение: 50.900\n",
      "Прогноз: 18.105, фактическое значение: 37.900\n",
      "Прогноз: 32.609, фактическое значение: 49.800\n",
      "Прогноз: 31.659, фактическое значение: 42.300\n",
      "Прогноз: 18.803, фактическое значение: 53.900\n",
      "Прогноз: 26.008, фактическое значение: 51.500\n",
      "Прогноз: 26.384, фактическое значение: 42.600\n",
      "Прогноз: 31.789, фактическое значение: 38.100\n",
      "Прогноз: 4.056, фактическое значение: 50.700\n",
      "Прогноз: 1.876, фактическое значение: 45.900\n",
      "Прогноз: 21.938, фактическое значение: 36.100\n",
      "Прогноз: 40.381, фактическое значение: 42.900\n",
      "Прогноз: 19.851, фактическое значение: 50.000\n",
      "Прогноз: 20.682, фактическое значение: 46.200\n",
      "Прогноз: 5.161, фактическое значение: 63.000\n",
      "Прогноз: 39.023, фактическое значение: 48.500\n",
      "Прогноз: 45.990, фактическое значение: 42.400\n",
      "Прогноз: 21.562, фактическое значение: 43.900\n",
      "Прогноз: 53.643, фактическое значение: 37.500\n",
      "Прогноз: 26.280, фактическое значение: 42.700\n",
      "Прогноз: 36.295, фактическое значение: 34.800\n",
      "Прогноз: 10.956, фактическое значение: 33.300\n",
      "Прогноз: 56.308, фактическое значение: 34.800\n",
      "Прогноз: 60.573, фактическое значение: 48.500\n",
      "Прогноз: 31.116, фактическое значение: 46.600\n",
      "Прогноз: 17.624, фактическое значение: 33.600\n",
      "Прогноз: 29.854, фактическое значение: 27.900\n",
      "Прогноз: 24.414, фактическое значение: 30.300\n",
      "Прогноз: 19.853, фактическое значение: 53.800\n",
      "Прогноз: 30.788, фактическое значение: 47.800\n",
      "Прогноз: 4.544, фактическое значение: 46.400\n",
      "Прогноз: 36.079, фактическое значение: 54.800\n",
      "Прогноз: 18.599, фактическое значение: 43.900\n",
      "Прогноз: 27.289, фактическое значение: 34.900\n",
      "Прогноз: 18.912, фактическое значение: 50.200\n",
      "Прогноз: 15.827, фактическое значение: 40.300\n",
      "Прогноз: 30.702, фактическое значение: 45.800\n",
      "Прогноз: 24.649, фактическое значение: 39.400\n",
      "Прогноз: 23.919, фактическое значение: 40.200\n",
      "Прогноз: 49.686, фактическое значение: 48.800\n",
      "Прогноз: 9.551, фактическое значение: 41.500\n",
      "Прогноз: 49.557, фактическое значение: 38.300\n",
      "Прогноз: 2.994, фактическое значение: 63.000\n",
      "Прогноз: 10.607, фактическое значение: 42.500\n",
      "Прогноз: 12.868, фактическое значение: 51.300\n",
      "Прогноз: 24.941, фактическое значение: 30.100\n",
      "Прогноз: 0.875, фактическое значение: 31.100\n",
      "Прогноз: 40.463, фактическое значение: 32.800\n",
      "Прогноз: 9.403, фактическое значение: 42.900\n",
      "Прогноз: -0.864, фактическое значение: 43.200\n",
      "Прогноз: 4.449, фактическое значение: 52.600\n",
      "Прогноз: 32.151, фактическое значение: 44.500\n",
      "Прогноз: 34.558, фактическое значение: 35.500\n",
      "Прогноз: 17.233, фактическое значение: 32.400\n",
      "Прогноз: 28.241, фактическое значение: 44.200\n",
      "Прогноз: 53.418, фактическое значение: 41.800\n",
      "Прогноз: 15.102, фактическое значение: 39.100\n",
      "Прогноз: 28.238, фактическое значение: 32.500\n",
      "Прогноз: 34.591, фактическое значение: 29.400\n",
      "Прогноз: 23.192, фактическое значение: 22.900\n",
      "Прогноз: 10.339, фактическое значение: 34.200\n",
      "Прогноз: 5.415, фактическое значение: 32.400\n",
      "Прогноз: 27.156, фактическое значение: 31.200\n",
      "Прогноз: 14.971, фактическое значение: 43.500\n",
      "Прогноз: 37.024, фактическое значение: 32.700\n",
      "Прогноз: 30.454, фактическое значение: 38.900\n",
      "Прогноз: 2.871, фактическое значение: 45.100\n",
      "Прогноз: 13.349, фактическое значение: 31.000\n",
      "Прогноз: 16.867, фактическое значение: 15.300\n",
      "Прогноз: 43.063, фактическое значение: 29.500\n",
      "Прогноз: 19.225, фактическое значение: 28.400\n",
      "Прогноз: 10.096, фактическое значение: 16.500\n",
      "Прогноз: 15.196, фактическое значение: 44.200\n",
      "Прогноз: 33.324, фактическое значение: 42.700\n",
      "Прогноз: 12.033, фактическое значение: 41.500\n",
      "Прогноз: 22.640, фактическое значение: 36.500\n",
      "Прогноз: 26.013, фактическое значение: 42.600\n",
      "Прогноз: 7.712, фактическое значение: 31.100\n",
      "Прогноз: 14.400, фактическое значение: 25.100\n",
      "Прогноз: 36.655, фактическое значение: 23.500\n",
      "Прогноз: 23.494, фактическое значение: 25.200\n",
      "Прогноз: 50.318, фактическое значение: 45.600\n",
      "Прогноз: 20.649, фактическое значение: 36.200\n",
      "Прогноз: 21.291, фактическое значение: 32.100\n",
      "Прогноз: 9.306, фактическое значение: 30.900\n",
      "Прогноз: 2.737, фактическое значение: 32.300\n",
      "Прогноз: 27.807, фактическое значение: 35.500\n",
      "Прогноз: 48.419, фактическое значение: 26.900\n",
      "Прогноз: 18.370, фактическое значение: 35.200\n",
      "Прогноз: 41.339, фактическое значение: 22.000\n",
      "Прогноз: 40.943, фактическое значение: 34.200\n",
      "Прогноз: 25.951, фактическое значение: 48.800\n",
      "Прогноз: 39.259, фактическое значение: 46.800\n",
      "Прогноз: 2.529, фактическое значение: 38.600\n",
      "Прогноз: 14.428, фактическое значение: 36.500\n",
      "Прогноз: 37.279, фактическое значение: 34.700\n",
      "Прогноз: 34.673, фактическое значение: 42.300\n",
      "Прогноз: 13.687, фактическое значение: 22.400\n",
      "Прогноз: 25.194, фактическое значение: 42.300\n",
      "Прогноз: 1.964, фактическое значение: 18.800\n",
      "Прогноз: 23.883, фактическое значение: 42.100\n",
      "Прогноз: 35.465, фактическое значение: 35.700\n",
      "Прогноз: 33.764, фактическое значение: 21.100\n",
      "Прогноз: 1.395, фактическое значение: 35.000\n",
      "Прогноз: 39.554, фактическое значение: 21.200\n",
      "Прогноз: 31.169, фактическое значение: 18.400\n",
      "Прогноз: 24.226, фактическое значение: 28.700\n",
      "Прогноз: 32.848, фактическое значение: 31.100\n",
      "Прогноз: 5.437, фактическое значение: 19.900\n",
      "Прогноз: 39.689, фактическое значение: 32.700\n",
      "Прогноз: 38.011, фактическое значение: 30.300\n",
      "Прогноз: 13.572, фактическое значение: 42.100\n",
      "Прогноз: 25.047, фактическое значение: 30.800\n",
      "Прогноз: 45.063, фактическое значение: 30.400\n",
      "Прогноз: 30.946, фактическое значение: 29.600\n",
      "Прогноз: 38.621, фактическое значение: 38.200\n",
      "Прогноз: 8.861, фактическое значение: 24.500\n",
      "Прогноз: 18.444, фактическое значение: 34.300\n",
      "Прогноз: 16.814, фактическое значение: 29.900\n",
      "Прогноз: 11.311, фактическое значение: 40.100\n",
      "Прогноз: 55.559, фактическое значение: 26.300\n",
      "Прогноз: 37.904, фактическое значение: 26.700\n",
      "Прогноз: 16.970, фактическое значение: 37.300\n",
      "Прогноз: 33.841, фактическое значение: 33.400\n",
      "Прогноз: 19.647, фактическое значение: 27.500\n",
      "Прогноз: 39.298, фактическое значение: 33.100\n",
      "Прогноз: 9.349, фактическое значение: 31.800\n",
      "Прогноз: 59.449, фактическое значение: 22.400\n",
      "Прогноз: 2.842, фактическое значение: 14.200\n",
      "Прогноз: 32.828, фактическое значение: 29.900\n",
      "Прогноз: 18.813, фактическое значение: 27.900\n",
      "Прогноз: 29.142, фактическое значение: 29.300\n",
      "Прогноз: 7.002, фактическое значение: 16.700\n",
      "Прогноз: 52.373, фактическое значение: 34.400\n"
     ]
    }
   ],
   "source": [
    "# вывести прогнозы и соответствующие значения целевой переменной\n",
    "for i in range(len(y_pred)):\n",
    "    print(\"Прогноз: %.3f, фактическое значение: %.3f\" % (y_pred[i], y[i]))"
   ]
  },
  {
   "cell_type": "markdown",
   "id": "5473d09a",
   "metadata": {},
   "source": [
    "А тут тоже всё некрасиво и плохо и даже есть отрицательные значения в прошнозе :("
   ]
  },
  {
   "cell_type": "code",
   "execution_count": null,
   "id": "1bac04d7",
   "metadata": {},
   "outputs": [],
   "source": []
  },
  {
   "cell_type": "code",
   "execution_count": null,
   "id": "cc14f749",
   "metadata": {},
   "outputs": [],
   "source": []
  }
 ],
 "metadata": {
  "kernelspec": {
   "display_name": "Python 3 (ipykernel)",
   "language": "python",
   "name": "python3"
  },
  "language_info": {
   "codemirror_mode": {
    "name": "ipython",
    "version": 3
   },
   "file_extension": ".py",
   "mimetype": "text/x-python",
   "name": "python",
   "nbconvert_exporter": "python",
   "pygments_lexer": "ipython3",
   "version": "3.9.7"
  }
 },
 "nbformat": 4,
 "nbformat_minor": 5
}
