{
 "cells": [
  {
   "cell_type": "code",
   "execution_count": 1,
   "id": "19f8db20",
   "metadata": {},
   "outputs": [],
   "source": [
    "import pandas as pd\n",
    "import numpy as np\n",
    "\n",
    "import matplotlib.pyplot as plt\n",
    "import seaborn as sns\n",
    "# Отключение некоторых лишних предупреждений\n",
    "import warnings\n",
    "warnings.filterwarnings(\"ignore\")"
   ]
  },
  {
   "cell_type": "markdown",
   "id": "125f6175",
   "metadata": {},
   "source": [
    "**Для начала загрузим файл в pd.DataFrame**"
   ]
  },
  {
   "cell_type": "code",
   "execution_count": 2,
   "id": "dd5b7c18",
   "metadata": {
    "scrolled": true
   },
   "outputs": [
    {
     "name": "stdout",
     "output_type": "stream",
     "text": [
      "      rank_order   rank                                   name scores_overall  \\\n",
      "0             10      1                   University of Oxford           95.4   \n",
      "1             20      2     California Institute of Technology           94.5   \n",
      "2             30      3                University of Cambridge           94.4   \n",
      "3             40      4                    Stanford University           94.3   \n",
      "4             50      5  Massachusetts Institute of Technology           93.6   \n",
      "...          ...    ...                                    ...            ...   \n",
      "1392       13930  1001+                     Yuan Ze University      10.7–22.1   \n",
      "1393       13940  1001+                     Zagazig University      10.7–22.1   \n",
      "1394       13950  1001+                   University of Zagreb      10.7–22.1   \n",
      "1395       13960  1001+                   University of Zanjan      10.7–22.1   \n",
      "1396       13970  1001+      Zhejiang University of Technology      10.7–22.1   \n",
      "\n",
      "      scores_overall_rank  scores_teaching  scores_teaching_rank  \\\n",
      "0                      10             90.5                     6   \n",
      "1                      20             92.1                     2   \n",
      "2                      30             91.4                     4   \n",
      "3                      40             92.8                     1   \n",
      "4                      50             90.5                     5   \n",
      "...                   ...              ...                   ...   \n",
      "1392                13930             17.3                  1143   \n",
      "1393                13940             13.6                  1373   \n",
      "1394                13950             17.8                  1096   \n",
      "1395                13960             17.0                  1165   \n",
      "1396                13970             16.7                  1202   \n",
      "\n",
      "      scores_research  scores_research_rank  scores_citations  ...  \\\n",
      "0                99.6                     1              98.4  ...   \n",
      "1                97.2                     4              97.9  ...   \n",
      "2                98.7                     2              95.8  ...   \n",
      "3                96.4                     5              99.9  ...   \n",
      "4                92.4                    10              99.5  ...   \n",
      "...               ...                   ...               ...  ...   \n",
      "1392             13.9                   885              15.5  ...   \n",
      "1393              7.7                  1365              29.6  ...   \n",
      "1394             12.9                   957              25.3  ...   \n",
      "1395             12.3                  1000              28.5  ...   \n",
      "1396             14.2                   869              32.3  ...   \n",
      "\n",
      "      scores_international_outlook_rank        location  \\\n",
      "0                                    22  United Kingdom   \n",
      "1                                   151   United States   \n",
      "2                                    37  United Kingdom   \n",
      "3                                   188   United States   \n",
      "4                                    99   United States   \n",
      "...                                 ...             ...   \n",
      "1392                               1024          Taiwan   \n",
      "1393                                800           Egypt   \n",
      "1394                                919         Croatia   \n",
      "1395                               1282            Iran   \n",
      "1396                               1119           China   \n",
      "\n",
      "      stats_number_students  stats_student_staff_ratio  \\\n",
      "0                    20,665                       11.2   \n",
      "1                     2,240                        6.4   \n",
      "2                    18,980                       10.9   \n",
      "3                    16,135                        7.3   \n",
      "4                    11,247                        8.6   \n",
      "...                     ...                        ...   \n",
      "1392                  8,356                       19.5   \n",
      "1393                156,419                       24.0   \n",
      "1394                 68,216                       18.9   \n",
      "1395                  9,980                       25.1   \n",
      "1396                 31,228                       14.7   \n",
      "\n",
      "      stats_pc_intl_students stats_female_male_ratio  \\\n",
      "0                        41%                 46 : 54   \n",
      "1                        30%                 34 : 66   \n",
      "2                        37%                 47 : 53   \n",
      "3                        23%                 43 : 57   \n",
      "4                        34%                 39 : 61   \n",
      "...                      ...                     ...   \n",
      "1392                      8%                 42 : 58   \n",
      "1393                      1%                 53 : 47   \n",
      "1394                      3%                 59 : 41   \n",
      "1395                      0%                 54 : 46   \n",
      "1396                      8%                     NaN   \n",
      "\n",
      "                                         aliases  \\\n",
      "0                           University of Oxford   \n",
      "1     California Institute of Technology caltech   \n",
      "2                        University of Cambridge   \n",
      "3                            Stanford University   \n",
      "4          Massachusetts Institute of Technology   \n",
      "...                                          ...   \n",
      "1392                          Yuan Ze University   \n",
      "1393                          Zagazig University   \n",
      "1394                        University of Zagreb   \n",
      "1395                        University of Zanjan   \n",
      "1396           Zhejiang University of Technology   \n",
      "\n",
      "                                       subjects_offered closed unaccredited  \n",
      "0     Accounting & Finance,General Engineering,Commu...  False        False  \n",
      "1     Languages, Literature & Linguistics,Economics ...  False        False  \n",
      "2     Business & Management,General Engineering,Art,...  False        False  \n",
      "3     Physics & Astronomy,Computer Science,Politics ...  False        False  \n",
      "4     Mathematics & Statistics,Languages, Literature...  False        False  \n",
      "...                                                 ...    ...          ...  \n",
      "1392  Business & Management,Sociology,Electrical & E...  False        False  \n",
      "1393  General Engineering,Psychology,Sport Science,P...  False        False  \n",
      "1394  Geography,Psychology,Electrical & Electronic E...  False        False  \n",
      "1395  Agriculture & Forestry,Psychology,Languages, L...  False        False  \n",
      "1396  Chemical Engineering,Accounting & Finance,Comm...  False        False  \n",
      "\n",
      "[1397 rows x 24 columns]\n"
     ]
    }
   ],
   "source": [
    "data = pd.read_csv(\"2020_rankings.csv\")\n",
    "print(data)"
   ]
  },
  {
   "cell_type": "markdown",
   "id": "56b71c1d",
   "metadata": {},
   "source": [
    "Можно предположить, что столбцы 'aliases' и 'subject_offered' будут наименее эффектинвы для дальнейшего исследования. Название 'aliases' практически всегда совпадает с основым названием ВУЗа, а список предметов будет трудно проанализировать. "
   ]
  },
  {
   "cell_type": "markdown",
   "id": "590fe49d",
   "metadata": {},
   "source": [
    "**Проанализируем столбцы и их типы данных**"
   ]
  },
  {
   "cell_type": "code",
   "execution_count": 3,
   "id": "cc2bae50",
   "metadata": {
    "scrolled": true
   },
   "outputs": [
    {
     "name": "stdout",
     "output_type": "stream",
     "text": [
      "<class 'pandas.core.frame.DataFrame'>\n",
      "RangeIndex: 1397 entries, 0 to 1396\n",
      "Data columns (total 24 columns):\n",
      " #   Column                             Non-Null Count  Dtype  \n",
      "---  ------                             --------------  -----  \n",
      " 0   rank_order                         1397 non-null   int64  \n",
      " 1   rank                               1397 non-null   object \n",
      " 2   name                               1397 non-null   object \n",
      " 3   scores_overall                     1397 non-null   object \n",
      " 4   scores_overall_rank                1397 non-null   int64  \n",
      " 5   scores_teaching                    1397 non-null   float64\n",
      " 6   scores_teaching_rank               1397 non-null   int64  \n",
      " 7   scores_research                    1397 non-null   float64\n",
      " 8   scores_research_rank               1397 non-null   int64  \n",
      " 9   scores_citations                   1397 non-null   float64\n",
      " 10  scores_citations_rank              1397 non-null   int64  \n",
      " 11  scores_industry_income             1397 non-null   float64\n",
      " 12  scores_industry_income_rank        1397 non-null   int64  \n",
      " 13  scores_international_outlook       1397 non-null   float64\n",
      " 14  scores_international_outlook_rank  1397 non-null   int64  \n",
      " 15  location                           1397 non-null   object \n",
      " 16  stats_number_students              1397 non-null   object \n",
      " 17  stats_student_staff_ratio          1397 non-null   float64\n",
      " 18  stats_pc_intl_students             1397 non-null   object \n",
      " 19  stats_female_male_ratio            1331 non-null   object \n",
      " 20  aliases                            1397 non-null   object \n",
      " 21  subjects_offered                   1397 non-null   object \n",
      " 22  closed                             1397 non-null   bool   \n",
      " 23  unaccredited                       1397 non-null   bool   \n",
      "dtypes: bool(2), float64(6), int64(7), object(9)\n",
      "memory usage: 243.0+ KB\n"
     ]
    }
   ],
   "source": [
    "data.info()"
   ]
  },
  {
   "cell_type": "markdown",
   "id": "2d8b9efd",
   "metadata": {},
   "source": [
    "Таблица состоит из 24 столбца с данными со следующими datatype: 'int64', 'object', 'float64', 'bool'. В каждом столбце имеется 1397 значений кроме 'stats_female_male_ratio', где в 66 строках имеются пропуски. Прежде чем перейти к проверке данного суждения, заметим, что последние два столбца состоят из переменной 'bool', проверим, если все значения одинковы и равны 'False', то в дальнейшем анализе эти столбцы не понадобятся."
   ]
  },
  {
   "cell_type": "code",
   "execution_count": 4,
   "id": "2c325634",
   "metadata": {},
   "outputs": [
    {
     "name": "stdout",
     "output_type": "stream",
     "text": [
      "The column does not contain True\n"
     ]
    }
   ],
   "source": [
    "if data['closed'].isin([True]).any():\n",
    "    print(\"The column contains True\")\n",
    "else:\n",
    "    print(\"The column does not contain True\")"
   ]
  },
  {
   "cell_type": "code",
   "execution_count": 5,
   "id": "fa40aa39",
   "metadata": {},
   "outputs": [
    {
     "name": "stdout",
     "output_type": "stream",
     "text": [
      "The column does not contain True\n"
     ]
    }
   ],
   "source": [
    "if data['unaccredited'].isin([True]).any():\n",
    "    print(\"The column contains True\")\n",
    "else:\n",
    "    print(\"The column does not contain True\")"
   ]
  },
  {
   "cell_type": "markdown",
   "id": "cbeb5fb8",
   "metadata": {},
   "source": [
    "Столбцы 'closed' и 'unaccredited' также не несут в себе смысла, так как для всех ВУЗов значения одникаовые: они работают и аккредитированы. <br> *Код выше был найден с помощью ИИ*"
   ]
  },
  {
   "cell_type": "markdown",
   "id": "3a61d82a",
   "metadata": {},
   "source": [
    "**Проверим количество пропусков в каждой колонке**"
   ]
  },
  {
   "cell_type": "code",
   "execution_count": 6,
   "id": "5f4d89ed",
   "metadata": {
    "scrolled": true
   },
   "outputs": [
    {
     "data": {
      "text/plain": [
       "rank_order                            0\n",
       "rank                                  0\n",
       "name                                  0\n",
       "scores_overall                        0\n",
       "scores_overall_rank                   0\n",
       "scores_teaching                       0\n",
       "scores_teaching_rank                  0\n",
       "scores_research                       0\n",
       "scores_research_rank                  0\n",
       "scores_citations                      0\n",
       "scores_citations_rank                 0\n",
       "scores_industry_income                0\n",
       "scores_industry_income_rank           0\n",
       "scores_international_outlook          0\n",
       "scores_international_outlook_rank     0\n",
       "location                              0\n",
       "stats_number_students                 0\n",
       "stats_student_staff_ratio             0\n",
       "stats_pc_intl_students                0\n",
       "stats_female_male_ratio              66\n",
       "aliases                               0\n",
       "subjects_offered                      0\n",
       "closed                                0\n",
       "unaccredited                          0\n",
       "dtype: int64"
      ]
     },
     "execution_count": 6,
     "metadata": {},
     "output_type": "execute_result"
    }
   ],
   "source": [
    "data.isnull().sum()"
   ]
  },
  {
   "cell_type": "markdown",
   "id": "0457429a",
   "metadata": {},
   "source": [
    "Предположение подвтердилось, что в столбце 'stats_female_male_ratio' 66 пропуска, так как значения данного столбца представляют собой пропурцию двух чисел (процентное соотношение девушек к мужчинам), просто заполнить медианой пропуски не получится (тип переменной - object). Попробуем оставить в этом столбце лишь первые два символа, то есть число процентов учащихся девушек в каждом ВУЗе. Заменим столбез с данными 'stats_female_male_ratio' на 'stats_female_ratio'."
   ]
  },
  {
   "cell_type": "code",
   "execution_count": 7,
   "id": "00830f85",
   "metadata": {},
   "outputs": [
    {
     "data": {
      "text/html": [
       "<div>\n",
       "<style scoped>\n",
       "    .dataframe tbody tr th:only-of-type {\n",
       "        vertical-align: middle;\n",
       "    }\n",
       "\n",
       "    .dataframe tbody tr th {\n",
       "        vertical-align: top;\n",
       "    }\n",
       "\n",
       "    .dataframe thead th {\n",
       "        text-align: right;\n",
       "    }\n",
       "</style>\n",
       "<table border=\"1\" class=\"dataframe\">\n",
       "  <thead>\n",
       "    <tr style=\"text-align: right;\">\n",
       "      <th></th>\n",
       "      <th>rank_order</th>\n",
       "      <th>rank</th>\n",
       "      <th>name</th>\n",
       "      <th>scores_overall</th>\n",
       "      <th>scores_overall_rank</th>\n",
       "      <th>scores_teaching</th>\n",
       "      <th>scores_teaching_rank</th>\n",
       "      <th>scores_research</th>\n",
       "      <th>scores_research_rank</th>\n",
       "      <th>scores_citations</th>\n",
       "      <th>...</th>\n",
       "      <th>scores_international_outlook_rank</th>\n",
       "      <th>location</th>\n",
       "      <th>stats_number_students</th>\n",
       "      <th>stats_student_staff_ratio</th>\n",
       "      <th>stats_pc_intl_students</th>\n",
       "      <th>stats_female_ratio</th>\n",
       "      <th>aliases</th>\n",
       "      <th>subjects_offered</th>\n",
       "      <th>closed</th>\n",
       "      <th>unaccredited</th>\n",
       "    </tr>\n",
       "  </thead>\n",
       "  <tbody>\n",
       "    <tr>\n",
       "      <th>0</th>\n",
       "      <td>10</td>\n",
       "      <td>1</td>\n",
       "      <td>University of Oxford</td>\n",
       "      <td>95.4</td>\n",
       "      <td>10</td>\n",
       "      <td>90.5</td>\n",
       "      <td>6</td>\n",
       "      <td>99.6</td>\n",
       "      <td>1</td>\n",
       "      <td>98.4</td>\n",
       "      <td>...</td>\n",
       "      <td>22</td>\n",
       "      <td>United Kingdom</td>\n",
       "      <td>20,665</td>\n",
       "      <td>11.2</td>\n",
       "      <td>41%</td>\n",
       "      <td>46</td>\n",
       "      <td>University of Oxford</td>\n",
       "      <td>Accounting &amp; Finance,General Engineering,Commu...</td>\n",
       "      <td>False</td>\n",
       "      <td>False</td>\n",
       "    </tr>\n",
       "    <tr>\n",
       "      <th>1</th>\n",
       "      <td>20</td>\n",
       "      <td>2</td>\n",
       "      <td>California Institute of Technology</td>\n",
       "      <td>94.5</td>\n",
       "      <td>20</td>\n",
       "      <td>92.1</td>\n",
       "      <td>2</td>\n",
       "      <td>97.2</td>\n",
       "      <td>4</td>\n",
       "      <td>97.9</td>\n",
       "      <td>...</td>\n",
       "      <td>151</td>\n",
       "      <td>United States</td>\n",
       "      <td>2,240</td>\n",
       "      <td>6.4</td>\n",
       "      <td>30%</td>\n",
       "      <td>34</td>\n",
       "      <td>California Institute of Technology caltech</td>\n",
       "      <td>Languages, Literature &amp; Linguistics,Economics ...</td>\n",
       "      <td>False</td>\n",
       "      <td>False</td>\n",
       "    </tr>\n",
       "    <tr>\n",
       "      <th>2</th>\n",
       "      <td>30</td>\n",
       "      <td>3</td>\n",
       "      <td>University of Cambridge</td>\n",
       "      <td>94.4</td>\n",
       "      <td>30</td>\n",
       "      <td>91.4</td>\n",
       "      <td>4</td>\n",
       "      <td>98.7</td>\n",
       "      <td>2</td>\n",
       "      <td>95.8</td>\n",
       "      <td>...</td>\n",
       "      <td>37</td>\n",
       "      <td>United Kingdom</td>\n",
       "      <td>18,980</td>\n",
       "      <td>10.9</td>\n",
       "      <td>37%</td>\n",
       "      <td>47</td>\n",
       "      <td>University of Cambridge</td>\n",
       "      <td>Business &amp; Management,General Engineering,Art,...</td>\n",
       "      <td>False</td>\n",
       "      <td>False</td>\n",
       "    </tr>\n",
       "    <tr>\n",
       "      <th>3</th>\n",
       "      <td>40</td>\n",
       "      <td>4</td>\n",
       "      <td>Stanford University</td>\n",
       "      <td>94.3</td>\n",
       "      <td>40</td>\n",
       "      <td>92.8</td>\n",
       "      <td>1</td>\n",
       "      <td>96.4</td>\n",
       "      <td>5</td>\n",
       "      <td>99.9</td>\n",
       "      <td>...</td>\n",
       "      <td>188</td>\n",
       "      <td>United States</td>\n",
       "      <td>16,135</td>\n",
       "      <td>7.3</td>\n",
       "      <td>23%</td>\n",
       "      <td>43</td>\n",
       "      <td>Stanford University</td>\n",
       "      <td>Physics &amp; Astronomy,Computer Science,Politics ...</td>\n",
       "      <td>False</td>\n",
       "      <td>False</td>\n",
       "    </tr>\n",
       "    <tr>\n",
       "      <th>4</th>\n",
       "      <td>50</td>\n",
       "      <td>5</td>\n",
       "      <td>Massachusetts Institute of Technology</td>\n",
       "      <td>93.6</td>\n",
       "      <td>50</td>\n",
       "      <td>90.5</td>\n",
       "      <td>5</td>\n",
       "      <td>92.4</td>\n",
       "      <td>10</td>\n",
       "      <td>99.5</td>\n",
       "      <td>...</td>\n",
       "      <td>99</td>\n",
       "      <td>United States</td>\n",
       "      <td>11,247</td>\n",
       "      <td>8.6</td>\n",
       "      <td>34%</td>\n",
       "      <td>39</td>\n",
       "      <td>Massachusetts Institute of Technology</td>\n",
       "      <td>Mathematics &amp; Statistics,Languages, Literature...</td>\n",
       "      <td>False</td>\n",
       "      <td>False</td>\n",
       "    </tr>\n",
       "  </tbody>\n",
       "</table>\n",
       "<p>5 rows × 24 columns</p>\n",
       "</div>"
      ],
      "text/plain": [
       "   rank_order rank                                   name scores_overall  \\\n",
       "0          10    1                   University of Oxford           95.4   \n",
       "1          20    2     California Institute of Technology           94.5   \n",
       "2          30    3                University of Cambridge           94.4   \n",
       "3          40    4                    Stanford University           94.3   \n",
       "4          50    5  Massachusetts Institute of Technology           93.6   \n",
       "\n",
       "   scores_overall_rank  scores_teaching  scores_teaching_rank  \\\n",
       "0                   10             90.5                     6   \n",
       "1                   20             92.1                     2   \n",
       "2                   30             91.4                     4   \n",
       "3                   40             92.8                     1   \n",
       "4                   50             90.5                     5   \n",
       "\n",
       "   scores_research  scores_research_rank  scores_citations  ...  \\\n",
       "0             99.6                     1              98.4  ...   \n",
       "1             97.2                     4              97.9  ...   \n",
       "2             98.7                     2              95.8  ...   \n",
       "3             96.4                     5              99.9  ...   \n",
       "4             92.4                    10              99.5  ...   \n",
       "\n",
       "   scores_international_outlook_rank        location  stats_number_students  \\\n",
       "0                                 22  United Kingdom                 20,665   \n",
       "1                                151   United States                  2,240   \n",
       "2                                 37  United Kingdom                 18,980   \n",
       "3                                188   United States                 16,135   \n",
       "4                                 99   United States                 11,247   \n",
       "\n",
       "   stats_student_staff_ratio  stats_pc_intl_students stats_female_ratio  \\\n",
       "0                       11.2                     41%                 46   \n",
       "1                        6.4                     30%                 34   \n",
       "2                       10.9                     37%                 47   \n",
       "3                        7.3                     23%                 43   \n",
       "4                        8.6                     34%                 39   \n",
       "\n",
       "                                      aliases  \\\n",
       "0                        University of Oxford   \n",
       "1  California Institute of Technology caltech   \n",
       "2                     University of Cambridge   \n",
       "3                         Stanford University   \n",
       "4       Massachusetts Institute of Technology   \n",
       "\n",
       "                                    subjects_offered closed unaccredited  \n",
       "0  Accounting & Finance,General Engineering,Commu...  False        False  \n",
       "1  Languages, Literature & Linguistics,Economics ...  False        False  \n",
       "2  Business & Management,General Engineering,Art,...  False        False  \n",
       "3  Physics & Astronomy,Computer Science,Politics ...  False        False  \n",
       "4  Mathematics & Statistics,Languages, Literature...  False        False  \n",
       "\n",
       "[5 rows x 24 columns]"
      ]
     },
     "execution_count": 7,
     "metadata": {},
     "output_type": "execute_result"
    }
   ],
   "source": [
    "data['stats_female_male_ratio'] = data['stats_female_male_ratio'].str[:2]\n",
    "data = data.rename(columns={'stats_female_male_ratio': 'stats_female_ratio'})\n",
    "\n",
    "data.head()"
   ]
  },
  {
   "cell_type": "markdown",
   "id": "f6bd8b06",
   "metadata": {},
   "source": [
    "Теперь заполним пропуски медианой, так как это среднее по численности в упорядочном списке, а не просто среднее арифметическое, что может исказить данные."
   ]
  },
  {
   "cell_type": "code",
   "execution_count": 8,
   "id": "6f9c1d30",
   "metadata": {},
   "outputs": [],
   "source": [
    "data.fillna(data.median(), inplace=True)"
   ]
  },
  {
   "cell_type": "code",
   "execution_count": 9,
   "id": "370d0f70",
   "metadata": {},
   "outputs": [
    {
     "data": {
      "text/plain": [
       "rank_order                           0\n",
       "rank                                 0\n",
       "name                                 0\n",
       "scores_overall                       0\n",
       "scores_overall_rank                  0\n",
       "scores_teaching                      0\n",
       "scores_teaching_rank                 0\n",
       "scores_research                      0\n",
       "scores_research_rank                 0\n",
       "scores_citations                     0\n",
       "scores_citations_rank                0\n",
       "scores_industry_income               0\n",
       "scores_industry_income_rank          0\n",
       "scores_international_outlook         0\n",
       "scores_international_outlook_rank    0\n",
       "location                             0\n",
       "stats_number_students                0\n",
       "stats_student_staff_ratio            0\n",
       "stats_pc_intl_students               0\n",
       "stats_female_ratio                   0\n",
       "aliases                              0\n",
       "subjects_offered                     0\n",
       "closed                               0\n",
       "unaccredited                         0\n",
       "dtype: int64"
      ]
     },
     "execution_count": 9,
     "metadata": {},
     "output_type": "execute_result"
    }
   ],
   "source": [
    "data.isnull().sum()\n",
    "#Ещё одна проверка показала, что мы избавились от нулевых значений."
   ]
  },
  {
   "cell_type": "markdown",
   "id": "72e39e3f",
   "metadata": {},
   "source": [
    "Теперь определим, какие столбцы будут присутсвовать в дальнейшем исследовании."
   ]
  },
  {
   "cell_type": "code",
   "execution_count": 10,
   "id": "73ce4adc",
   "metadata": {},
   "outputs": [
    {
     "data": {
      "text/html": [
       "<div>\n",
       "<style scoped>\n",
       "    .dataframe tbody tr th:only-of-type {\n",
       "        vertical-align: middle;\n",
       "    }\n",
       "\n",
       "    .dataframe tbody tr th {\n",
       "        vertical-align: top;\n",
       "    }\n",
       "\n",
       "    .dataframe thead th {\n",
       "        text-align: right;\n",
       "    }\n",
       "</style>\n",
       "<table border=\"1\" class=\"dataframe\">\n",
       "  <thead>\n",
       "    <tr style=\"text-align: right;\">\n",
       "      <th></th>\n",
       "      <th>rank_order</th>\n",
       "      <th>rank</th>\n",
       "      <th>name</th>\n",
       "      <th>scores_overall</th>\n",
       "      <th>scores_teaching</th>\n",
       "      <th>scores_research</th>\n",
       "      <th>scores_citations</th>\n",
       "      <th>scores_industry_income</th>\n",
       "      <th>scores_international_outlook</th>\n",
       "      <th>location</th>\n",
       "      <th>stats_number_students</th>\n",
       "      <th>stats_female_ratio</th>\n",
       "    </tr>\n",
       "  </thead>\n",
       "  <tbody>\n",
       "    <tr>\n",
       "      <th>0</th>\n",
       "      <td>10</td>\n",
       "      <td>1</td>\n",
       "      <td>University of Oxford</td>\n",
       "      <td>95.4</td>\n",
       "      <td>90.5</td>\n",
       "      <td>99.6</td>\n",
       "      <td>98.4</td>\n",
       "      <td>65.5</td>\n",
       "      <td>96.4</td>\n",
       "      <td>United Kingdom</td>\n",
       "      <td>20,665</td>\n",
       "      <td>46</td>\n",
       "    </tr>\n",
       "    <tr>\n",
       "      <th>1</th>\n",
       "      <td>20</td>\n",
       "      <td>2</td>\n",
       "      <td>California Institute of Technology</td>\n",
       "      <td>94.5</td>\n",
       "      <td>92.1</td>\n",
       "      <td>97.2</td>\n",
       "      <td>97.9</td>\n",
       "      <td>88.0</td>\n",
       "      <td>82.5</td>\n",
       "      <td>United States</td>\n",
       "      <td>2,240</td>\n",
       "      <td>34</td>\n",
       "    </tr>\n",
       "    <tr>\n",
       "      <th>2</th>\n",
       "      <td>30</td>\n",
       "      <td>3</td>\n",
       "      <td>University of Cambridge</td>\n",
       "      <td>94.4</td>\n",
       "      <td>91.4</td>\n",
       "      <td>98.7</td>\n",
       "      <td>95.8</td>\n",
       "      <td>59.3</td>\n",
       "      <td>95.0</td>\n",
       "      <td>United Kingdom</td>\n",
       "      <td>18,980</td>\n",
       "      <td>47</td>\n",
       "    </tr>\n",
       "    <tr>\n",
       "      <th>3</th>\n",
       "      <td>40</td>\n",
       "      <td>4</td>\n",
       "      <td>Stanford University</td>\n",
       "      <td>94.3</td>\n",
       "      <td>92.8</td>\n",
       "      <td>96.4</td>\n",
       "      <td>99.9</td>\n",
       "      <td>66.2</td>\n",
       "      <td>79.5</td>\n",
       "      <td>United States</td>\n",
       "      <td>16,135</td>\n",
       "      <td>43</td>\n",
       "    </tr>\n",
       "    <tr>\n",
       "      <th>4</th>\n",
       "      <td>50</td>\n",
       "      <td>5</td>\n",
       "      <td>Massachusetts Institute of Technology</td>\n",
       "      <td>93.6</td>\n",
       "      <td>90.5</td>\n",
       "      <td>92.4</td>\n",
       "      <td>99.5</td>\n",
       "      <td>86.9</td>\n",
       "      <td>89.0</td>\n",
       "      <td>United States</td>\n",
       "      <td>11,247</td>\n",
       "      <td>39</td>\n",
       "    </tr>\n",
       "    <tr>\n",
       "      <th>...</th>\n",
       "      <td>...</td>\n",
       "      <td>...</td>\n",
       "      <td>...</td>\n",
       "      <td>...</td>\n",
       "      <td>...</td>\n",
       "      <td>...</td>\n",
       "      <td>...</td>\n",
       "      <td>...</td>\n",
       "      <td>...</td>\n",
       "      <td>...</td>\n",
       "      <td>...</td>\n",
       "      <td>...</td>\n",
       "    </tr>\n",
       "    <tr>\n",
       "      <th>1392</th>\n",
       "      <td>13930</td>\n",
       "      <td>1001+</td>\n",
       "      <td>Yuan Ze University</td>\n",
       "      <td>10.7–22.1</td>\n",
       "      <td>17.3</td>\n",
       "      <td>13.9</td>\n",
       "      <td>15.5</td>\n",
       "      <td>47.0</td>\n",
       "      <td>28.3</td>\n",
       "      <td>Taiwan</td>\n",
       "      <td>8,356</td>\n",
       "      <td>42</td>\n",
       "    </tr>\n",
       "    <tr>\n",
       "      <th>1393</th>\n",
       "      <td>13940</td>\n",
       "      <td>1001+</td>\n",
       "      <td>Zagazig University</td>\n",
       "      <td>10.7–22.1</td>\n",
       "      <td>13.6</td>\n",
       "      <td>7.7</td>\n",
       "      <td>29.6</td>\n",
       "      <td>34.4</td>\n",
       "      <td>38.8</td>\n",
       "      <td>Egypt</td>\n",
       "      <td>156,419</td>\n",
       "      <td>53</td>\n",
       "    </tr>\n",
       "    <tr>\n",
       "      <th>1394</th>\n",
       "      <td>13950</td>\n",
       "      <td>1001+</td>\n",
       "      <td>University of Zagreb</td>\n",
       "      <td>10.7–22.1</td>\n",
       "      <td>17.8</td>\n",
       "      <td>12.9</td>\n",
       "      <td>25.3</td>\n",
       "      <td>37.4</td>\n",
       "      <td>33.0</td>\n",
       "      <td>Croatia</td>\n",
       "      <td>68,216</td>\n",
       "      <td>59</td>\n",
       "    </tr>\n",
       "    <tr>\n",
       "      <th>1395</th>\n",
       "      <td>13960</td>\n",
       "      <td>1001+</td>\n",
       "      <td>University of Zanjan</td>\n",
       "      <td>10.7–22.1</td>\n",
       "      <td>17.0</td>\n",
       "      <td>12.3</td>\n",
       "      <td>28.5</td>\n",
       "      <td>43.8</td>\n",
       "      <td>18.7</td>\n",
       "      <td>Iran</td>\n",
       "      <td>9,980</td>\n",
       "      <td>54</td>\n",
       "    </tr>\n",
       "    <tr>\n",
       "      <th>1396</th>\n",
       "      <td>13970</td>\n",
       "      <td>1001+</td>\n",
       "      <td>Zhejiang University of Technology</td>\n",
       "      <td>10.7–22.1</td>\n",
       "      <td>16.7</td>\n",
       "      <td>14.2</td>\n",
       "      <td>32.3</td>\n",
       "      <td>51.4</td>\n",
       "      <td>24.4</td>\n",
       "      <td>China</td>\n",
       "      <td>31,228</td>\n",
       "      <td>52.0</td>\n",
       "    </tr>\n",
       "  </tbody>\n",
       "</table>\n",
       "<p>1397 rows × 12 columns</p>\n",
       "</div>"
      ],
      "text/plain": [
       "      rank_order   rank                                   name scores_overall  \\\n",
       "0             10      1                   University of Oxford           95.4   \n",
       "1             20      2     California Institute of Technology           94.5   \n",
       "2             30      3                University of Cambridge           94.4   \n",
       "3             40      4                    Stanford University           94.3   \n",
       "4             50      5  Massachusetts Institute of Technology           93.6   \n",
       "...          ...    ...                                    ...            ...   \n",
       "1392       13930  1001+                     Yuan Ze University      10.7–22.1   \n",
       "1393       13940  1001+                     Zagazig University      10.7–22.1   \n",
       "1394       13950  1001+                   University of Zagreb      10.7–22.1   \n",
       "1395       13960  1001+                   University of Zanjan      10.7–22.1   \n",
       "1396       13970  1001+      Zhejiang University of Technology      10.7–22.1   \n",
       "\n",
       "      scores_teaching  scores_research  scores_citations  \\\n",
       "0                90.5             99.6              98.4   \n",
       "1                92.1             97.2              97.9   \n",
       "2                91.4             98.7              95.8   \n",
       "3                92.8             96.4              99.9   \n",
       "4                90.5             92.4              99.5   \n",
       "...               ...              ...               ...   \n",
       "1392             17.3             13.9              15.5   \n",
       "1393             13.6              7.7              29.6   \n",
       "1394             17.8             12.9              25.3   \n",
       "1395             17.0             12.3              28.5   \n",
       "1396             16.7             14.2              32.3   \n",
       "\n",
       "      scores_industry_income  scores_international_outlook        location  \\\n",
       "0                       65.5                          96.4  United Kingdom   \n",
       "1                       88.0                          82.5   United States   \n",
       "2                       59.3                          95.0  United Kingdom   \n",
       "3                       66.2                          79.5   United States   \n",
       "4                       86.9                          89.0   United States   \n",
       "...                      ...                           ...             ...   \n",
       "1392                    47.0                          28.3          Taiwan   \n",
       "1393                    34.4                          38.8           Egypt   \n",
       "1394                    37.4                          33.0         Croatia   \n",
       "1395                    43.8                          18.7            Iran   \n",
       "1396                    51.4                          24.4           China   \n",
       "\n",
       "     stats_number_students stats_female_ratio  \n",
       "0                   20,665                 46  \n",
       "1                    2,240                 34  \n",
       "2                   18,980                 47  \n",
       "3                   16,135                 43  \n",
       "4                   11,247                 39  \n",
       "...                    ...                ...  \n",
       "1392                 8,356                 42  \n",
       "1393               156,419                 53  \n",
       "1394                68,216                 59  \n",
       "1395                 9,980                 54  \n",
       "1396                31,228               52.0  \n",
       "\n",
       "[1397 rows x 12 columns]"
      ]
     },
     "execution_count": 10,
     "metadata": {},
     "output_type": "execute_result"
    }
   ],
   "source": [
    "useful_cols = ['rank_order', 'rank', 'name', 'scores_overall', 'scores_teaching', 'scores_research', 'scores_citations', 'scores_industry_income', 'scores_international_outlook', 'location', 'stats_number_students', 'stats_female_ratio']\n",
    "data[useful_cols]"
   ]
  },
  {
   "cell_type": "markdown",
   "id": "7c9b90c4",
   "metadata": {},
   "source": [
    "Проверим ВУЗы какой страны чаще всего встречаются в этом рейтинге. "
   ]
  },
  {
   "cell_type": "code",
   "execution_count": 11,
   "id": "a36f7970",
   "metadata": {},
   "outputs": [
    {
     "name": "stdout",
     "output_type": "stream",
     "text": [
      "United States\n"
     ]
    }
   ],
   "source": [
    "#Код найден с помощью ИИ, запрос был следующим:Как в Python найти какое значение в столбце чаще всего встречается?\n",
    "\n",
    "value_counts = data['location'].value_counts()\n",
    "most_common_value = value_counts.index[0]\n",
    "print(most_common_value)"
   ]
  },
  {
   "cell_type": "markdown",
   "id": "a309ccea",
   "metadata": {},
   "source": [
    "Теперь изучим, какое минимальное и максимальное показателя дохода отрасли по инновации."
   ]
  },
  {
   "cell_type": "code",
   "execution_count": 14,
   "id": "5ffdf53c",
   "metadata": {},
   "outputs": [
    {
     "name": "stdout",
     "output_type": "stream",
     "text": [
      "100.0\n",
      "34.4\n"
     ]
    }
   ],
   "source": [
    "# Максимальное значение в столбце\n",
    "print(data['scores_industry_income'].max())\n",
    "\n",
    "# Минимальное значение в столбце\n",
    "print(data['scores_industry_income'].min())"
   ]
  },
  {
   "cell_type": "code",
   "execution_count": 32,
   "id": "634b4867",
   "metadata": {},
   "outputs": [
    {
     "name": "stdout",
     "output_type": "stream",
     "text": [
      "99.7\n",
      "13.1\n",
      "47.09892627057979\n",
      "43.1\n"
     ]
    }
   ],
   "source": [
    "print(data['scores_international_outlook'].max())\n",
    "print(data['scores_international_outlook'].min())\n",
    "print(data['scores_international_outlook'].mean())\n",
    "print(data['scores_international_outlook'].median())"
   ]
  },
  {
   "cell_type": "code",
   "execution_count": 35,
   "id": "fe069913",
   "metadata": {},
   "outputs": [
    {
     "data": {
      "text/plain": [
       "Text(0, 0.5, 'количество вузов')"
      ]
     },
     "execution_count": 35,
     "metadata": {},
     "output_type": "execute_result"
    },
    {
     "data": {
      "image/png": "[encoded data removed]",
      "text/plain": [
       "<Figure size 432x288 with 1 Axes>"
      ]
     },
     "metadata": {
      "needs_background": "light"
     },
     "output_type": "display_data"
    }
   ],
   "source": [
    "plt.hist(data['scores_international_outlook'])\n",
    "plt.xlabel('оценка международных перспектив')\n",
    "plt.ylabel('количество вузов')"
   ]
  },
  {
   "cell_type": "markdown",
   "id": "b95e4ba6",
   "metadata": {},
   "source": [
    "На графике видно, что чаще всего оценка международных перспектив у высших заведений ниже среднего, это подтверждает и поиск медианы чуть выше."
   ]
  },
  {
   "cell_type": "code",
   "execution_count": 27,
   "id": "48a37e79",
   "metadata": {},
   "outputs": [
    {
     "name": "stdout",
     "output_type": "stream",
     "text": [
      "rank_order                             int64\n",
      "rank                                  object\n",
      "name                                  object\n",
      "scores_overall                        object\n",
      "scores_overall_rank                    int64\n",
      "scores_teaching                      float64\n",
      "scores_teaching_rank                   int64\n",
      "scores_research                      float64\n",
      "scores_research_rank                   int64\n",
      "scores_citations                     float64\n",
      "scores_citations_rank                  int64\n",
      "scores_industry_income               float64\n",
      "scores_industry_income_rank            int64\n",
      "scores_international_outlook         float64\n",
      "scores_international_outlook_rank      int64\n",
      "location                              object\n",
      "stats_number_students                 object\n",
      "stats_student_staff_ratio            float64\n",
      "stats_pc_intl_students                object\n",
      "stats_female_ratio                   float64\n",
      "aliases                               object\n",
      "subjects_offered                      object\n",
      "closed                                  bool\n",
      "unaccredited                            bool\n",
      "dtype: object\n"
     ]
    }
   ],
   "source": [
    "data['stats_female_ratio'] = data['stats_female_ratio'].astype('float64')\n",
    "\n",
    "print(data.dtypes)\n",
    "\n",
    "#Код найден с помощью ИИ, запрс: Как изменить тип данных object на float64"
   ]
  },
  {
   "cell_type": "code",
   "execution_count": 36,
   "id": "c82e2678",
   "metadata": {
    "scrolled": true
   },
   "outputs": [
    {
     "data": {
      "text/plain": [
       "Text(0, 0.5, 'количество вузов')"
      ]
     },
     "execution_count": 36,
     "metadata": {},
     "output_type": "execute_result"
    },
    {
     "data": {
      "image/png": "[encoded data removed]",
      "text/plain": [
       "<Figure size 432x288 with 1 Axes>"
      ]
     },
     "metadata": {
      "needs_background": "light"
     },
     "output_type": "display_data"
    }
   ],
   "source": [
    "plt.hist(data['stats_female_ratio'])\n",
    "plt.xlabel('количество учащихся девушек в процентах')\n",
    "plt.ylabel('количество вузов')"
   ]
  },
  {
   "cell_type": "markdown",
   "id": "69148001",
   "metadata": {},
   "source": [
    "График выше иллюстрирует, что в основном количество девушек равняется или превышает количество учащихся парней. "
   ]
  },
  {
   "cell_type": "code",
   "execution_count": 37,
   "id": "b563bb0c",
   "metadata": {
    "scrolled": true
   },
   "outputs": [
    {
     "data": {
      "text/plain": [
       "Text(0, 0.5, 'количество вузов')"
      ]
     },
     "execution_count": 37,
     "metadata": {},
     "output_type": "execute_result"
    },
    {
     "data": {
      "image/png": "[encoded data removed]",
      "text/plain": [
       "<Figure size 432x288 with 1 Axes>"
      ]
     },
     "metadata": {
      "needs_background": "light"
     },
     "output_type": "display_data"
    }
   ],
   "source": [
    "plt.hist(data['scores_research'])\n",
    "plt.xlabel('оценка исследования')\n",
    "plt.ylabel('количество вузов')"
   ]
  },
  {
   "cell_type": "code",
   "execution_count": 39,
   "id": "734aa2d1",
   "metadata": {},
   "outputs": [
    {
     "data": {
      "text/plain": [
       "Text(0, 0.5, 'количество вузов')"
      ]
     },
     "execution_count": 39,
     "metadata": {},
     "output_type": "execute_result"
    },
    {
     "data": {
      "image/png": "[encoded data removed]",
      "text/plain": [
       "<Figure size 432x288 with 1 Axes>"
      ]
     },
     "metadata": {
      "needs_background": "light"
     },
     "output_type": "display_data"
    }
   ],
   "source": [
    "data[data.scores_research > 10].scores_research.hist(bins=100)\n",
    "plt.xlabel('оценка исследования')\n",
    "plt.ylabel('количество вузов')"
   ]
  },
  {
   "cell_type": "markdown",
   "id": "b64649fa",
   "metadata": {},
   "source": [
    "На сайте приведено следующее объяснение данной переменной 'scores_research': объем, индекс и репутация университета. На графике как раз видно, что подавлящее большинство университетов имеют низкую оценку (ниже 50) => можно сделать вывод, что высокая оценка исследования свойственна топовым университетам."
   ]
  },
  {
   "cell_type": "markdown",
   "id": "808c1eb2",
   "metadata": {},
   "source": [
    "**Предварительные гипотезы, которые будут проверяться в дальнейшем:**\n",
    "1) Проверить гипотезу, что количество учащихся девушек никак не влияет на место в рейтинге.\n",
    "<br> 2) Проверить гипотезу, что оценка международных перспектив никак не влияет на место в рейтинге. <br> 3) Проверить гипотезу, чем выше 'scores_research', тем выше место университета в рейтинге."
   ]
  },
  {
   "cell_type": "markdown",
   "id": "9b985dff",
   "metadata": {},
   "source": [
    "**Машинное обучение**\n",
    "\n",
    "Попробуем предсказать оценку преподавания. 'scores_teaching' будет целевой переменной, остальные - объясняющими. В дальнейшем нужно будет изучить связь объясняемой переменной с объясняющими, найти корреляцию. В дальнейшем для обучения модели разобъём выборку на обучающую и тестовую."
   ]
  }
 ],
 "metadata": {
  "kernelspec": {
   "display_name": "Python 3 (ipykernel)",
   "language": "python",
   "name": "python3"
  },
  "language_info": {
   "codemirror_mode": {
    "name": "ipython",
    "version": 3
   },
   "file_extension": ".py",
   "mimetype": "text/x-python",
   "name": "python",
   "nbconvert_exporter": "python",
   "pygments_lexer": "ipython3",
   "version": "3.9.7"
  }
 },
 "nbformat": 4,
 "nbformat_minor": 5
}
